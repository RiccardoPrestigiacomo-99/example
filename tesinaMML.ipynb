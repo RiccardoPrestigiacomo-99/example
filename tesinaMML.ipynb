{
  "nbformat": 4,
  "nbformat_minor": 0,
  "metadata": {
    "colab": {
      "name": "tesinaMML.ipynb",
      "provenance": [],
      "collapsed_sections": [],
      "toc_visible": true,
      "include_colab_link": true
    },
    "kernelspec": {
      "name": "python3",
      "display_name": "Python 3"
    },
    "language_info": {
      "name": "python"
    }
  },
  "cells": [
    {
      "cell_type": "markdown",
      "metadata": {
        "id": "view-in-github",
        "colab_type": "text"
      },
      "source": [
        "<a href=\"https://colab.research.google.com/github/RiccardoPrestigiacomo-99/example/blob/main/tesinaMML.ipynb\" target=\"_parent\"><img src=\"https://colab.research.google.com/assets/colab-badge.svg\" alt=\"Open In Colab\"/></a>"
      ]
    },
    {
      "cell_type": "markdown",
      "metadata": {
        "id": "PxcLqcSWvyuK"
      },
      "source": [
        "#  **Astronomy and Machine Learning: a case study using images from a Cherenkov gamma-ray telescope**<br>\n",
        "Riccardo Prestigiacomo - s283392@studenti.polito.it<br>"
      ]
    },
    {
      "cell_type": "markdown",
      "metadata": {
        "id": "TEV-zunfxWb0"
      },
      "source": [
        "# Introduction"
      ]
    },
    {
      "cell_type": "markdown",
      "metadata": {
        "id": "TUgTo_SpxYdW"
      },
      "source": [
        "Astronomy, astrophysics, and particle physics all have made rapid progress as observational sciences in recent years. Much of this progress is due to the development of detector technology, coupled with a parallel development of analysis methods. Confronted with a daunting challenge of extracting a small number of interesting events from an overwhelming sea of background, both having very similar characteristics, physicists have become familiar with quite sophisticated multivariate techniques.\n",
        "<p align=\"center\">\n",
        "  <img width=\"460\" height=\"300\" src=\"data:image/jpeg;base64,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\">\n",
        "  <center>Ground-based gamma-ray telescope</center>\n",
        "</p>\n",
        "Ground-based gamma-ray telescopes are an example of experiments exploring a new research frontier, that are likely to benefit from the many multivariate data analysis techniques developed in recent years. In this case study, various multivariate techniques are applied to the same set of data. <br><br>\n",
        "Ground-based atmospheric Cherenkov telescopes using the imaging techniques are a comparatively recent addition to the panopoly of instruments used by astrophysicists. They observe high-energy gamma rays, taking advantage of the radiation emitted by charged particles as they are produced abundantly inside the electromagnetic showers initiated by the gammas, and developing in the atmosphere. This Cherenkov radiation leaks through the atmosphere and gets recorded in the detector, allowing reconstruction of shower paramters.\n",
        "One problem is that the number of observable Cherenkov photons for primary gammas of lower energy (below 100 GeV) becomes comparatively small, and correspondingly the problems of discrimination against background get enhanced. Optimal use of this information is critical for the success of this technique."
      ]
    },
    {
      "cell_type": "markdown",
      "metadata": {
        "id": "AZ1N8LEh714A"
      },
      "source": [
        "# Libraries"
      ]
    },
    {
      "cell_type": "code",
      "metadata": {
        "id": "wiq6pdzP73oc",
        "colab": {
          "base_uri": "https://localhost:8080/"
        },
        "outputId": "e992903a-8739-4c91-e8be-098556af2b1e"
      },
      "source": [
        "#@title\n",
        "import numpy as np\n",
        "import pandas as pd\n",
        "import matplotlib.pyplot as plt\n",
        "import seaborn as sns\n",
        "from sklearn.preprocessing import LabelEncoder\n",
        "from sklearn.preprocessing import StandardScaler\n",
        "from sklearn.model_selection import train_test_split\n",
        "from sklearn.linear_model import LogisticRegression\n",
        "from sklearn.metrics import accuracy_score\n",
        "from sklearn.metrics import recall_score\n",
        "from sklearn.metrics import f1_score\n",
        "from sklearn.metrics import precision_score\n",
        "from sklearn.ensemble import RandomForestClassifier\n",
        "from sklearn.svm import LinearSVC\n",
        "from sklearn.tree import DecisionTreeClassifier\n",
        "import graphviz\n",
        "from sklearn import tree\n",
        "from sklearn.model_selection import GridSearchCV\n",
        "from sklearn.metrics import roc_curve, roc_auc_score\n",
        "from sklearn.metrics import confusion_matrix\n",
        "from sklearn.decomposition import PCA\n",
        "from sklearn.model_selection import StratifiedKFold\n",
        "from imblearn.over_sampling import SMOTE\n",
        "from collections import Counter\n",
        "from sklearn.model_selection import ParameterGrid\n",
        "from sklearn.model_selection import learning_curve"
      ],
      "execution_count": 1,
      "outputs": [
        {
          "output_type": "stream",
          "text": [
            "/usr/local/lib/python3.7/dist-packages/sklearn/externals/six.py:31: FutureWarning: The module is deprecated in version 0.21 and will be removed in version 0.23 since we've dropped support for Python 2.7. Please rely on the official version of six (https://pypi.org/project/six/).\n",
            "  \"(https://pypi.org/project/six/).\", FutureWarning)\n",
            "/usr/local/lib/python3.7/dist-packages/sklearn/utils/deprecation.py:144: FutureWarning: The sklearn.neighbors.base module is  deprecated in version 0.22 and will be removed in version 0.24. The corresponding classes / functions should instead be imported from sklearn.neighbors. Anything that cannot be imported from sklearn.neighbors is now part of the private API.\n",
            "  warnings.warn(message, FutureWarning)\n"
          ],
          "name": "stderr"
        }
      ]
    },
    {
      "cell_type": "markdown",
      "metadata": {
        "id": "DxHFGCew148Y"
      },
      "source": [
        "# Dataset "
      ]
    },
    {
      "cell_type": "markdown",
      "metadata": {
        "id": "0kncGEoO1-hQ"
      },
      "source": [
        "For our case study, we use the `MAGIC Gamma Telescope Data Set`. This data set contains generated data to simulate registration of high energy gamma particles in a ground-based atmospheric Cherenkov gamma telescope using the imaging technique. <br> <br>\n",
        "The data set was generated by a Monte Carlo program, Corsika, described in: D.Heck et al., CORSIKA, A Monte Carlo code to simulate extensive air showers, Forschungszentrum Karlsruhe FZKA 6019 (1998) <br><br>\n",
        "The task is to *discriminate stastically images generated by primary gammas* (signal, class label g) *from the images of hadronic showers* initiated by cosmic rays in the upper atmosphere (background, class label h) <br><br>\n",
        "In the work presented we perform a general study, applying different multivariate classification methods to events described by 10 chosen image parameters. "
      ]
    },
    {
      "cell_type": "code",
      "metadata": {
        "colab": {
          "base_uri": "https://localhost:8080/"
        },
        "id": "qeqTl5Ht7s-L",
        "outputId": "6e059add-a49f-4b42-a638-9f010a9b69e0"
      },
      "source": [
        "#@title\n",
        "# Getting started with MAGIC Gamma Telescope data set\n",
        "!wget http://archive.ics.uci.edu/ml/machine-learning-databases/magic/magic04.data\n",
        "!wget http://archive.ics.uci.edu/ml/machine-learning-databases/magic/magic04.names"
      ],
      "execution_count": 2,
      "outputs": [
        {
          "output_type": "stream",
          "text": [
            "--2021-07-15 09:30:04--  http://archive.ics.uci.edu/ml/machine-learning-databases/magic/magic04.data\n",
            "Resolving archive.ics.uci.edu (archive.ics.uci.edu)... 128.195.10.252\n",
            "Connecting to archive.ics.uci.edu (archive.ics.uci.edu)|128.195.10.252|:80... connected.\n",
            "HTTP request sent, awaiting response... 200 OK\n",
            "Length: 1477391 (1.4M) [application/x-httpd-php]\n",
            "Saving to: ‘magic04.data.4’\n",
            "\n",
            "\rmagic04.data.4        0%[                    ]       0  --.-KB/s               \rmagic04.data.4      100%[===================>]   1.41M  --.-KB/s    in 0.07s   \n",
            "\n",
            "2021-07-15 09:30:04 (21.4 MB/s) - ‘magic04.data.4’ saved [1477391/1477391]\n",
            "\n",
            "--2021-07-15 09:30:04--  http://archive.ics.uci.edu/ml/machine-learning-databases/magic/magic04.names\n",
            "Resolving archive.ics.uci.edu (archive.ics.uci.edu)... 128.195.10.252\n",
            "Connecting to archive.ics.uci.edu (archive.ics.uci.edu)|128.195.10.252|:80... connected.\n",
            "HTTP request sent, awaiting response... 200 OK\n",
            "Length: 5400 (5.3K) [application/x-httpd-php]\n",
            "Saving to: ‘magic04.names.4’\n",
            "\n",
            "magic04.names.4     100%[===================>]   5.27K  --.-KB/s    in 0s      \n",
            "\n",
            "2021-07-15 09:30:04 (502 MB/s) - ‘magic04.names.4’ saved [5400/5400]\n",
            "\n"
          ],
          "name": "stdout"
        }
      ]
    },
    {
      "cell_type": "markdown",
      "metadata": {
        "id": "J3cjT1C07FKf"
      },
      "source": [
        "## Attribute information"
      ]
    },
    {
      "cell_type": "markdown",
      "metadata": {
        "id": "0W8ovbTK7IWy"
      },
      "source": [
        "Let's start by showing the dataset's structure along with its variables."
      ]
    },
    {
      "cell_type": "code",
      "metadata": {
        "colab": {
          "base_uri": "https://localhost:8080/"
        },
        "id": "3RKKUDAJ7fhM",
        "cellView": "form",
        "outputId": "f9ed5d60-3dc2-4625-a080-02d306c4acd4"
      },
      "source": [
        "#@title\n",
        "df = pd.read_csv('magic04.data',header=None)\n",
        "columns = { 0: \"fLength\", 1: \"fWidth\", 2: \"fSize\", 3: \"fConc\", 4: \"fConc1\", 5: \"fAsym\", 6: \"fM3Long\", 7: \"fM3Trans\", 8: \"fAlpha\", 9: \"fDist\", 10: \"class\"} \n",
        "df.rename(columns=columns, inplace=True)\n",
        "df.info()"
      ],
      "execution_count": 3,
      "outputs": [
        {
          "output_type": "stream",
          "text": [
            "<class 'pandas.core.frame.DataFrame'>\n",
            "RangeIndex: 19020 entries, 0 to 19019\n",
            "Data columns (total 11 columns):\n",
            " #   Column    Non-Null Count  Dtype  \n",
            "---  ------    --------------  -----  \n",
            " 0   fLength   19020 non-null  float64\n",
            " 1   fWidth    19020 non-null  float64\n",
            " 2   fSize     19020 non-null  float64\n",
            " 3   fConc     19020 non-null  float64\n",
            " 4   fConc1    19020 non-null  float64\n",
            " 5   fAsym     19020 non-null  float64\n",
            " 6   fM3Long   19020 non-null  float64\n",
            " 7   fM3Trans  19020 non-null  float64\n",
            " 8   fAlpha    19020 non-null  float64\n",
            " 9   fDist     19020 non-null  float64\n",
            " 10  class     19020 non-null  object \n",
            "dtypes: float64(10), object(1)\n",
            "memory usage: 1.6+ MB\n"
          ],
          "name": "stdout"
        }
      ]
    },
    {
      "cell_type": "markdown",
      "metadata": {
        "id": "2YBaohkQ-InY"
      },
      "source": [
        "We have 19020 samples, whose no value is missing.\n",
        "In each row we have a numerical variable, and last we have a target binary variable: as this is a binary classification problem. <br>\n",
        "Each event is characterized by the following **ten parameters**:\n",
        "\n",
        "1.   `fLength`:  continuous  # major axis of ellipse [mm]\n",
        "2.   `fWidth`:   continuous  # minor axis of ellipse [mm]\n",
        "3.   `fSize`:    continuous  # 10-log of sum of content of all pixels [in #phot]\n",
        "4.   `fConc`:    continuous  # ratio of sum of two highest pixels over fSize  [ratio]\n",
        "5.   `fConc1`:   continuous  # ratio of highest pixel over fSize  [ratio]\n",
        "6.   `fAsym`:    continuous  # distance from highest pixel to center, projected onto major axis [mm]\n",
        "7.   `fM3Long`:  continuous  # 3rd root of third moment along major axis  [mm] \n",
        "8.  `fM3Trans`: continuous  # 3rd root of third moment along minor axis  [mm]\n",
        "9.  `fAlpha`:   continuous  # angle of major axis with vector to origin [deg]\n",
        "10.  `fDist`:    continuous  # distance from origin to center of ellipse [mm]\n",
        "11.  `class`:    g,h         # gamma (signal), hadron (background)\n",
        "\n",
        "The data consist of **two classes**: **gammas (signal)** and **hadrons (background)**."
      ]
    },
    {
      "cell_type": "markdown",
      "metadata": {
        "id": "6df6C6TL6KcD"
      },
      "source": [
        "## Dataset distribution\n"
      ]
    },
    {
      "cell_type": "markdown",
      "metadata": {
        "id": "fswlOOnp6THC"
      },
      "source": [
        "Events were generated at shower energies from 10 GeV up to about 30 TeV, and for zenith angles from zero to 20 degrees. The samples used by all methods are identical, and consist of **12332 gamma events** and **6888 hadron events**. <br>\n",
        "The dataset is not well balanced: in fact 12332 events are gamma and 6888 hadron."
      ]
    },
    {
      "cell_type": "code",
      "metadata": {
        "colab": {
          "base_uri": "https://localhost:8080/",
          "height": 296
        },
        "id": "pTVLWYzP6WBy",
        "outputId": "85d102ff-2b2b-4d16-9827-3599b0ed7a2b"
      },
      "source": [
        "#@title\n",
        "sns.color_palette()\n",
        "sns.countplot(x=\"class\", data=df)"
      ],
      "execution_count": 3,
      "outputs": [
        {
          "output_type": "execute_result",
          "data": {
            "text/plain": [
              "<matplotlib.axes._subplots.AxesSubplot at 0x7eff74c6af90>"
            ]
          },
          "metadata": {
            "tags": []
          },
          "execution_count": 3
        },
        {
          "output_type": "display_data",
          "data": {
            "image/png": "[encoded data removed]",
            "text/plain": [
              "<Figure size 432x288 with 1 Axes>"
            ]
          },
          "metadata": {
            "tags": [],
            "needs_background": "light"
          }
        }
      ]
    },
    {
      "cell_type": "markdown",
      "metadata": {
        "id": "QZGlrn7xCM_a"
      },
      "source": [
        "## Statistical overview"
      ]
    },
    {
      "cell_type": "markdown",
      "metadata": {
        "id": "LZb3G5TF30F7"
      },
      "source": [
        "### Dataset description"
      ]
    },
    {
      "cell_type": "markdown",
      "metadata": {
        "id": "bNmSl7mZChQ-"
      },
      "source": [
        "For each attribute I analized the count, mean, standard deviation, minimum and maximum value and the quartiles."
      ]
    },
    {
      "cell_type": "code",
      "metadata": {
        "colab": {
          "base_uri": "https://localhost:8080/",
          "height": 295
        },
        "cellView": "form",
        "id": "q5TqB3G-CcbV",
        "outputId": "41c828e0-001f-4e8b-a388-60a98963295d"
      },
      "source": [
        "#@title\n",
        "df.describe()"
      ],
      "execution_count": 4,
      "outputs": [
        {
          "output_type": "execute_result",
          "data": {
            "text/html": [
              "<div>\n",
              "<style scoped>\n",
              "    .dataframe tbody tr th:only-of-type {\n",
              "        vertical-align: middle;\n",
              "    }\n",
              "\n",
              "    .dataframe tbody tr th {\n",
              "        vertical-align: top;\n",
              "    }\n",
              "\n",
              "    .dataframe thead th {\n",
              "        text-align: right;\n",
              "    }\n",
              "</style>\n",
              "<table border=\"1\" class=\"dataframe\">\n",
              "  <thead>\n",
              "    <tr style=\"text-align: right;\">\n",
              "      <th></th>\n",
              "      <th>fLength</th>\n",
              "      <th>fWidth</th>\n",
              "      <th>fSize</th>\n",
              "      <th>fConc</th>\n",
              "      <th>fConc1</th>\n",
              "      <th>fAsym</th>\n",
              "      <th>fM3Long</th>\n",
              "      <th>fM3Trans</th>\n",
              "      <th>fAlpha</th>\n",
              "      <th>fDist</th>\n",
              "    </tr>\n",
              "  </thead>\n",
              "  <tbody>\n",
              "    <tr>\n",
              "      <th>count</th>\n",
              "      <td>19020.000000</td>\n",
              "      <td>19020.000000</td>\n",
              "      <td>19020.000000</td>\n",
              "      <td>19020.000000</td>\n",
              "      <td>19020.000000</td>\n",
              "      <td>19020.000000</td>\n",
              "      <td>19020.000000</td>\n",
              "      <td>19020.000000</td>\n",
              "      <td>19020.000000</td>\n",
              "      <td>19020.000000</td>\n",
              "    </tr>\n",
              "    <tr>\n",
              "      <th>mean</th>\n",
              "      <td>53.250154</td>\n",
              "      <td>22.180966</td>\n",
              "      <td>2.825017</td>\n",
              "      <td>0.380327</td>\n",
              "      <td>0.214657</td>\n",
              "      <td>-4.331745</td>\n",
              "      <td>10.545545</td>\n",
              "      <td>0.249726</td>\n",
              "      <td>27.645707</td>\n",
              "      <td>193.818026</td>\n",
              "    </tr>\n",
              "    <tr>\n",
              "      <th>std</th>\n",
              "      <td>42.364855</td>\n",
              "      <td>18.346056</td>\n",
              "      <td>0.472599</td>\n",
              "      <td>0.182813</td>\n",
              "      <td>0.110511</td>\n",
              "      <td>59.206062</td>\n",
              "      <td>51.000118</td>\n",
              "      <td>20.827439</td>\n",
              "      <td>26.103621</td>\n",
              "      <td>74.731787</td>\n",
              "    </tr>\n",
              "    <tr>\n",
              "      <th>min</th>\n",
              "      <td>4.283500</td>\n",
              "      <td>0.000000</td>\n",
              "      <td>1.941300</td>\n",
              "      <td>0.013100</td>\n",
              "      <td>0.000300</td>\n",
              "      <td>-457.916100</td>\n",
              "      <td>-331.780000</td>\n",
              "      <td>-205.894700</td>\n",
              "      <td>0.000000</td>\n",
              "      <td>1.282600</td>\n",
              "    </tr>\n",
              "    <tr>\n",
              "      <th>25%</th>\n",
              "      <td>24.336000</td>\n",
              "      <td>11.863800</td>\n",
              "      <td>2.477100</td>\n",
              "      <td>0.235800</td>\n",
              "      <td>0.128475</td>\n",
              "      <td>-20.586550</td>\n",
              "      <td>-12.842775</td>\n",
              "      <td>-10.849375</td>\n",
              "      <td>5.547925</td>\n",
              "      <td>142.492250</td>\n",
              "    </tr>\n",
              "    <tr>\n",
              "      <th>50%</th>\n",
              "      <td>37.147700</td>\n",
              "      <td>17.139900</td>\n",
              "      <td>2.739600</td>\n",
              "      <td>0.354150</td>\n",
              "      <td>0.196500</td>\n",
              "      <td>4.013050</td>\n",
              "      <td>15.314100</td>\n",
              "      <td>0.666200</td>\n",
              "      <td>17.679500</td>\n",
              "      <td>191.851450</td>\n",
              "    </tr>\n",
              "    <tr>\n",
              "      <th>75%</th>\n",
              "      <td>70.122175</td>\n",
              "      <td>24.739475</td>\n",
              "      <td>3.101600</td>\n",
              "      <td>0.503700</td>\n",
              "      <td>0.285225</td>\n",
              "      <td>24.063700</td>\n",
              "      <td>35.837800</td>\n",
              "      <td>10.946425</td>\n",
              "      <td>45.883550</td>\n",
              "      <td>240.563825</td>\n",
              "    </tr>\n",
              "    <tr>\n",
              "      <th>max</th>\n",
              "      <td>334.177000</td>\n",
              "      <td>256.382000</td>\n",
              "      <td>5.323300</td>\n",
              "      <td>0.893000</td>\n",
              "      <td>0.675200</td>\n",
              "      <td>575.240700</td>\n",
              "      <td>238.321000</td>\n",
              "      <td>179.851000</td>\n",
              "      <td>90.000000</td>\n",
              "      <td>495.561000</td>\n",
              "    </tr>\n",
              "  </tbody>\n",
              "</table>\n",
              "</div>"
            ],
            "text/plain": [
              "            fLength        fWidth  ...        fAlpha         fDist\n",
              "count  19020.000000  19020.000000  ...  19020.000000  19020.000000\n",
              "mean      53.250154     22.180966  ...     27.645707    193.818026\n",
              "std       42.364855     18.346056  ...     26.103621     74.731787\n",
              "min        4.283500      0.000000  ...      0.000000      1.282600\n",
              "25%       24.336000     11.863800  ...      5.547925    142.492250\n",
              "50%       37.147700     17.139900  ...     17.679500    191.851450\n",
              "75%       70.122175     24.739475  ...     45.883550    240.563825\n",
              "max      334.177000    256.382000  ...     90.000000    495.561000\n",
              "\n",
              "[8 rows x 10 columns]"
            ]
          },
          "metadata": {
            "tags": []
          },
          "execution_count": 4
        }
      ]
    },
    {
      "cell_type": "markdown",
      "metadata": {
        "id": "-cLtq68rsIuz"
      },
      "source": [
        "### Attribute domain"
      ]
    },
    {
      "cell_type": "code",
      "metadata": {
        "colab": {
          "base_uri": "https://localhost:8080/",
          "height": 387
        },
        "cellView": "form",
        "id": "OyjnSuXlpaA9",
        "outputId": "4cd1f030-fc19-4e68-dc93-016e0fbeab0e"
      },
      "source": [
        "#@title\n",
        "df1 = pd.DataFrame(np.array([['fLength', '[4.2835, 334.177]'], ['fWidth','[0.0, 256.382]'], ['fSize', '[1.9413, 5.3233]'],['fConc', '[0.0131, 0.893]'],\\\n",
        "                             ['fConc1', '[0.003, 0.6752]'],['fAsym', '[-457.9161, 575.2407]'],['fM3Long', '[-331.78, 238.321]'],\\\n",
        "                             ['fM3Trans', '[-205.8947, 179.851]'],['fAlpha', '[0.0, 90.0]'],['fDist', '[1.2826, 495.561]'],\\\n",
        "                             ['class', '{g, h}']]), columns=['Attribute','Domain'])\n",
        "df1"
      ],
      "execution_count": 6,
      "outputs": [
        {
          "output_type": "execute_result",
          "data": {
            "text/html": [
              "<div>\n",
              "<style scoped>\n",
              "    .dataframe tbody tr th:only-of-type {\n",
              "        vertical-align: middle;\n",
              "    }\n",
              "\n",
              "    .dataframe tbody tr th {\n",
              "        vertical-align: top;\n",
              "    }\n",
              "\n",
              "    .dataframe thead th {\n",
              "        text-align: right;\n",
              "    }\n",
              "</style>\n",
              "<table border=\"1\" class=\"dataframe\">\n",
              "  <thead>\n",
              "    <tr style=\"text-align: right;\">\n",
              "      <th></th>\n",
              "      <th>Attribute</th>\n",
              "      <th>Domain</th>\n",
              "    </tr>\n",
              "  </thead>\n",
              "  <tbody>\n",
              "    <tr>\n",
              "      <th>0</th>\n",
              "      <td>fLength</td>\n",
              "      <td>[4.2835, 334.177]</td>\n",
              "    </tr>\n",
              "    <tr>\n",
              "      <th>1</th>\n",
              "      <td>fWidth</td>\n",
              "      <td>[0.0, 256.382]</td>\n",
              "    </tr>\n",
              "    <tr>\n",
              "      <th>2</th>\n",
              "      <td>fSize</td>\n",
              "      <td>[1.9413, 5.3233]</td>\n",
              "    </tr>\n",
              "    <tr>\n",
              "      <th>3</th>\n",
              "      <td>fConc</td>\n",
              "      <td>[0.0131, 0.893]</td>\n",
              "    </tr>\n",
              "    <tr>\n",
              "      <th>4</th>\n",
              "      <td>fConc1</td>\n",
              "      <td>[0.003, 0.6752]</td>\n",
              "    </tr>\n",
              "    <tr>\n",
              "      <th>5</th>\n",
              "      <td>fAsym</td>\n",
              "      <td>[-457.9161, 575.2407]</td>\n",
              "    </tr>\n",
              "    <tr>\n",
              "      <th>6</th>\n",
              "      <td>fM3Long</td>\n",
              "      <td>[-331.78, 238.321]</td>\n",
              "    </tr>\n",
              "    <tr>\n",
              "      <th>7</th>\n",
              "      <td>fM3Trans</td>\n",
              "      <td>[-205.8947, 179.851]</td>\n",
              "    </tr>\n",
              "    <tr>\n",
              "      <th>8</th>\n",
              "      <td>fAlpha</td>\n",
              "      <td>[0.0, 90.0]</td>\n",
              "    </tr>\n",
              "    <tr>\n",
              "      <th>9</th>\n",
              "      <td>fDist</td>\n",
              "      <td>[1.2826, 495.561]</td>\n",
              "    </tr>\n",
              "    <tr>\n",
              "      <th>10</th>\n",
              "      <td>class</td>\n",
              "      <td>{g, h}</td>\n",
              "    </tr>\n",
              "  </tbody>\n",
              "</table>\n",
              "</div>"
            ],
            "text/plain": [
              "   Attribute                 Domain\n",
              "0    fLength      [4.2835, 334.177]\n",
              "1     fWidth         [0.0, 256.382]\n",
              "2      fSize       [1.9413, 5.3233]\n",
              "3      fConc        [0.0131, 0.893]\n",
              "4     fConc1        [0.003, 0.6752]\n",
              "5      fAsym  [-457.9161, 575.2407]\n",
              "6    fM3Long     [-331.78, 238.321]\n",
              "7   fM3Trans   [-205.8947, 179.851]\n",
              "8     fAlpha            [0.0, 90.0]\n",
              "9      fDist      [1.2826, 495.561]\n",
              "10     class                 {g, h}"
            ]
          },
          "metadata": {
            "tags": []
          },
          "execution_count": 6
        }
      ]
    },
    {
      "cell_type": "markdown",
      "metadata": {
        "id": "eSzuwQ2v37VW"
      },
      "source": [
        "### Boxplot of the features"
      ]
    },
    {
      "cell_type": "markdown",
      "metadata": {
        "id": "9DoCvdg7x9j6"
      },
      "source": [
        "The distributions of all attributes have been plotted as well: since all features are numerical we use boxplots."
      ]
    },
    {
      "cell_type": "code",
      "metadata": {
        "colab": {
          "base_uri": "https://localhost:8080/",
          "height": 300
        },
        "id": "NP_jyOWSyKB3",
        "outputId": "f7122292-db9b-4ddf-a771-91f6c6706319"
      },
      "source": [
        "#@title\n",
        "sns.boxplot(y=df['fLength'], x = df['class'])"
      ],
      "execution_count": 7,
      "outputs": [
        {
          "output_type": "execute_result",
          "data": {
            "text/plain": [
              "<matplotlib.axes._subplots.AxesSubplot at 0x7f7d0fdc3b90>"
            ]
          },
          "metadata": {
            "tags": []
          },
          "execution_count": 7
        },
        {
          "output_type": "display_data",
          "data": {
            "image/png": "[encoded data removed]",
            "text/plain": [
              "<Figure size 432x288 with 1 Axes>"
            ]
          },
          "metadata": {
            "tags": [],
            "needs_background": "light"
          }
        }
      ]
    },
    {
      "cell_type": "code",
      "metadata": {
        "colab": {
          "base_uri": "https://localhost:8080/",
          "height": 296
        },
        "cellView": "form",
        "id": "cwCFks791n1R",
        "outputId": "246af0a2-d579-41bc-c56a-cec627728de9"
      },
      "source": [
        "#@title\n",
        "sns.boxplot(y=df['fWidth'], x = df['class'])"
      ],
      "execution_count": 8,
      "outputs": [
        {
          "output_type": "execute_result",
          "data": {
            "text/plain": [
              "<matplotlib.axes._subplots.AxesSubplot at 0x7f7d0f81f590>"
            ]
          },
          "metadata": {
            "tags": []
          },
          "execution_count": 8
        },
        {
          "output_type": "display_data",
          "data": {
            "image/png": "[encoded data removed]",
            "text/plain": [
              "<Figure size 432x288 with 1 Axes>"
            ]
          },
          "metadata": {
            "tags": [],
            "needs_background": "light"
          }
        }
      ]
    },
    {
      "cell_type": "code",
      "metadata": {
        "colab": {
          "base_uri": "https://localhost:8080/",
          "height": 296
        },
        "cellView": "form",
        "id": "cfR9jRUJ3SVn",
        "outputId": "efc69e37-1bcb-4f90-e46f-0beae1c8f292"
      },
      "source": [
        "#@title\n",
        "sns.boxplot(y=df['fSize'], x = df['class'])"
      ],
      "execution_count": 9,
      "outputs": [
        {
          "output_type": "execute_result",
          "data": {
            "text/plain": [
              "<matplotlib.axes._subplots.AxesSubplot at 0x7f7d0f7b4810>"
            ]
          },
          "metadata": {
            "tags": []
          },
          "execution_count": 9
        },
        {
          "output_type": "display_data",
          "data": {
            "image/png": "[encoded data removed]",
            "text/plain": [
              "<Figure size 432x288 with 1 Axes>"
            ]
          },
          "metadata": {
            "tags": [],
            "needs_background": "light"
          }
        }
      ]
    },
    {
      "cell_type": "code",
      "metadata": {
        "colab": {
          "base_uri": "https://localhost:8080/",
          "height": 296
        },
        "cellView": "form",
        "id": "AsgBYu3y3WNf",
        "outputId": "8fc54b3e-7001-4e19-a4e4-a55a0c71dc14"
      },
      "source": [
        "#@title\n",
        "sns.boxplot(y=df['fConc'], x = df['class'])"
      ],
      "execution_count": 10,
      "outputs": [
        {
          "output_type": "execute_result",
          "data": {
            "text/plain": [
              "<matplotlib.axes._subplots.AxesSubplot at 0x7f7d0f723710>"
            ]
          },
          "metadata": {
            "tags": []
          },
          "execution_count": 10
        },
        {
          "output_type": "display_data",
          "data": {
            "image/png": "[encoded data removed]",
            "text/plain": [
              "<Figure size 432x288 with 1 Axes>"
            ]
          },
          "metadata": {
            "tags": [],
            "needs_background": "light"
          }
        }
      ]
    },
    {
      "cell_type": "code",
      "metadata": {
        "colab": {
          "base_uri": "https://localhost:8080/",
          "height": 297
        },
        "cellView": "form",
        "id": "7vX2gngB3Yl1",
        "outputId": "63ddd7e8-a2e2-4004-b10c-9c500da479c7"
      },
      "source": [
        "#@title\n",
        "sns.boxplot(y=df['fConc1'], x = df['class'])"
      ],
      "execution_count": 11,
      "outputs": [
        {
          "output_type": "execute_result",
          "data": {
            "text/plain": [
              "<matplotlib.axes._subplots.AxesSubplot at 0x7f7d0f6a7550>"
            ]
          },
          "metadata": {
            "tags": []
          },
          "execution_count": 11
        },
        {
          "output_type": "display_data",
          "data": {
            "image/png": "[encoded data removed]",
            "text/plain": [
              "<Figure size 432x288 with 1 Axes>"
            ]
          },
          "metadata": {
            "tags": [],
            "needs_background": "light"
          }
        }
      ]
    },
    {
      "cell_type": "code",
      "metadata": {
        "colab": {
          "base_uri": "https://localhost:8080/",
          "height": 296
        },
        "cellView": "form",
        "id": "EJAv-nkK3az4",
        "outputId": "23cce9e4-58d3-4c84-d8b8-31d4859b32d1"
      },
      "source": [
        "#@title\n",
        "sns.boxplot(y=df['fAsym'], x = df['class'])"
      ],
      "execution_count": 12,
      "outputs": [
        {
          "output_type": "execute_result",
          "data": {
            "text/plain": [
              "<matplotlib.axes._subplots.AxesSubplot at 0x7f7d0f620710>"
            ]
          },
          "metadata": {
            "tags": []
          },
          "execution_count": 12
        },
        {
          "output_type": "display_data",
          "data": {
            "image/png": "[encoded data removed]",
            "text/plain": [
              "<Figure size 432x288 with 1 Axes>"
            ]
          },
          "metadata": {
            "tags": [],
            "needs_background": "light"
          }
        }
      ]
    },
    {
      "cell_type": "code",
      "metadata": {
        "colab": {
          "base_uri": "https://localhost:8080/",
          "height": 296
        },
        "cellView": "form",
        "id": "qsUT3tAs3dr_",
        "outputId": "131321af-4f98-4d0b-98eb-216dbc6dcc94"
      },
      "source": [
        "#@title\n",
        "sns.boxplot(y=df['fM3Long'], x = df['class'])"
      ],
      "execution_count": 13,
      "outputs": [
        {
          "output_type": "execute_result",
          "data": {
            "text/plain": [
              "<matplotlib.axes._subplots.AxesSubplot at 0x7f7d0f5b4890>"
            ]
          },
          "metadata": {
            "tags": []
          },
          "execution_count": 13
        },
        {
          "output_type": "display_data",
          "data": {
            "image/png": "[encoded data removed]",
            "text/plain": [
              "<Figure size 432x288 with 1 Axes>"
            ]
          },
          "metadata": {
            "tags": [],
            "needs_background": "light"
          }
        }
      ]
    },
    {
      "cell_type": "code",
      "metadata": {
        "colab": {
          "base_uri": "https://localhost:8080/",
          "height": 296
        },
        "cellView": "form",
        "id": "o79mog-b3gvU",
        "outputId": "66c86384-8273-4eb4-a70c-a7df7a576b5a"
      },
      "source": [
        "#@title\n",
        "sns.boxplot(y=df['fM3Trans'], x = df['class'])"
      ],
      "execution_count": 14,
      "outputs": [
        {
          "output_type": "execute_result",
          "data": {
            "text/plain": [
              "<matplotlib.axes._subplots.AxesSubplot at 0x7f7d0f538250>"
            ]
          },
          "metadata": {
            "tags": []
          },
          "execution_count": 14
        },
        {
          "output_type": "display_data",
          "data": {
            "image/png": "[encoded data removed]",
            "text/plain": [
              "<Figure size 432x288 with 1 Axes>"
            ]
          },
          "metadata": {
            "tags": [],
            "needs_background": "light"
          }
        }
      ]
    },
    {
      "cell_type": "code",
      "metadata": {
        "colab": {
          "base_uri": "https://localhost:8080/",
          "height": 296
        },
        "cellView": "form",
        "id": "ARentBbT3gqP",
        "outputId": "88076541-d3a4-4b9d-9d1d-866b5979a29b"
      },
      "source": [
        "#@title\n",
        "sns.boxplot(y=df['fAlpha'], x = df['class'])"
      ],
      "execution_count": 15,
      "outputs": [
        {
          "output_type": "execute_result",
          "data": {
            "text/plain": [
              "<matplotlib.axes._subplots.AxesSubplot at 0x7f7d0f4402d0>"
            ]
          },
          "metadata": {
            "tags": []
          },
          "execution_count": 15
        },
        {
          "output_type": "display_data",
          "data": {
            "image/png": "[encoded data removed]",
            "text/plain": [
              "<Figure size 432x288 with 1 Axes>"
            ]
          },
          "metadata": {
            "tags": [],
            "needs_background": "light"
          }
        }
      ]
    },
    {
      "cell_type": "code",
      "metadata": {
        "colab": {
          "base_uri": "https://localhost:8080/",
          "height": 296
        },
        "cellView": "form",
        "id": "VOVOFAiK3nzD",
        "outputId": "ccd79092-f2a2-49ce-8b7f-00dc1f2279e6"
      },
      "source": [
        "#@title\n",
        "sns.boxplot(y=df['fDist'], x = df['class'])"
      ],
      "execution_count": 16,
      "outputs": [
        {
          "output_type": "execute_result",
          "data": {
            "text/plain": [
              "<matplotlib.axes._subplots.AxesSubplot at 0x7f7d0f46ce10>"
            ]
          },
          "metadata": {
            "tags": []
          },
          "execution_count": 16
        },
        {
          "output_type": "display_data",
          "data": {
            "image/png": "[encoded data removed]",
            "text/plain": [
              "<Figure size 432x288 with 1 Axes>"
            ]
          },
          "metadata": {
            "tags": [],
            "needs_background": "light"
          }
        }
      ]
    },
    {
      "cell_type": "markdown",
      "metadata": {
        "id": "BzJ51Noe428W"
      },
      "source": [
        "It can be noticed, for example, that there is a significant difference in the fAlpha and a slight difference in the fLength while the other boxplots are very similar."
      ]
    },
    {
      "cell_type": "markdown",
      "metadata": {
        "id": "pDTOD16__NrO"
      },
      "source": [
        "### Features correlation"
      ]
    },
    {
      "cell_type": "markdown",
      "metadata": {
        "id": "h5NEVOXW_R6X"
      },
      "source": [
        "Correlation is a term that is a measure of the strength of a linear relationship between two quantitative variables. <br>\n",
        "The most familiar measure of dependence between two quantities is the **Pearson product-moment correlation coefficient (PPMCC)**, or \"Pearson's correlation coefficient\", commonly called simply \"**the correlation coefficient**\". <br>\n",
        "\n",
        "A Pearson product-moment correlation coefficient attempts to establish a line of best fit through a dataset of two variables by essentially laying out the expected values and the resulting Pearson's correlation coefficient indicates how far away the actual dataset is from the expected values. Depending on the sign of our Pearson's correlation coefficient, we can end up with either a negative or positive correlation if there is any sort of relationship between the variables of our data set.\n",
        "\n",
        "The population correlation coefficient between two random variables X and Y with expected values $\\mu _{X}$ and $\\mu _{Y}$ and standard deviations $\\sigma_X$ and $\\sigma_Y$ is defined as: <br><br>\n",
        "$\\rho_{X,Y}$ = $corr(X,Y)$ = $\\frac{cov(X,Y)}{\\sigma_X\\sigma_Y}$ = $\\frac{E[(X -\\mu_X)(Y-\\mu_Y)]}{\\sigma_X\\sigma_Y}$\n",
        "\n"
      ]
    },
    {
      "cell_type": "code",
      "metadata": {
        "cellView": "form",
        "colab": {
          "base_uri": "https://localhost:8080/",
          "height": 539
        },
        "id": "h0ZmJYyK_SLa",
        "outputId": "19cab71f-9093-46a8-872b-f0638c6b5ee2"
      },
      "source": [
        "#@title\n",
        "x = df.drop(['class'], axis=1)\n",
        "plt.figure(figsize=(10,8))\n",
        "sns.heatmap(x.corr(),annot=True,square=True,center=0,vmin=-1,vmax=1,\n",
        "            cmap='BrBG',linewidths=5)"
      ],
      "execution_count": 17,
      "outputs": [
        {
          "output_type": "execute_result",
          "data": {
            "text/plain": [
              "<matplotlib.axes._subplots.AxesSubplot at 0x7f7d0f348dd0>"
            ]
          },
          "metadata": {
            "tags": []
          },
          "execution_count": 17
        },
        {
          "output_type": "display_data",
          "data": {
            "image/png": "[encoded data removed]",
            "text/plain": [
              "<Figure size 720x576 with 2 Axes>"
            ]
          },
          "metadata": {
            "tags": [],
            "needs_background": "light"
          }
        }
      ]
    },
    {
      "cell_type": "markdown",
      "metadata": {
        "id": "4GxV841low67"
      },
      "source": [
        "We can deduce some useful information: the correlation coefficients between the variables *fLength*-*fWidth* and *fWidth*-*fSize* are respectively 0.77 and 0.72. This is the case of positive correlation, between *fLength*-*fWidth* and *fWidth*-*fSize* there is an increasing linear relationships: if one increase the other increase too. On the other hand, between *fConc* and *fSize* we have a negative correlation: if one increase the other decrease and viceversa."
      ]
    },
    {
      "cell_type": "markdown",
      "metadata": {
        "id": "wPgNdbisIbdv"
      },
      "source": [
        "### Pairplot\n"
      ]
    },
    {
      "cell_type": "markdown",
      "metadata": {
        "id": "GISKrOMGwoLx"
      },
      "source": [
        "A pair plot allows us to see both distribution of single variables, in the diagonal, and relationships between two variables."
      ]
    },
    {
      "cell_type": "code",
      "metadata": {
        "id": "Ptrl9DFAvrEe"
      },
      "source": [
        "#@title\n",
        "# sns.pairplot(df, hue = 'class')"
      ],
      "execution_count": 18,
      "outputs": []
    },
    {
      "cell_type": "markdown",
      "metadata": {
        "id": "ORNbb_OvqkGk"
      },
      "source": [
        "## Data preprocessing"
      ]
    },
    {
      "cell_type": "markdown",
      "metadata": {
        "id": "Gm6Fak6ir7WD"
      },
      "source": [
        "### Label encoder"
      ]
    },
    {
      "cell_type": "markdown",
      "metadata": {
        "id": "DmamKsOarLLP"
      },
      "source": [
        "Machine learning alghoritm work only with numerical features so the first step is to encode target labels with value between 0 and n_classes-1. Since we are in a binary problem we have only two classes, we encode:\n",
        "\n",
        "\n",
        "*   class g: 0\n",
        "*   class h: 1\n",
        "\n"
      ]
    },
    {
      "cell_type": "code",
      "metadata": {
        "id": "INQetM4msIRB"
      },
      "source": [
        "#@title\n",
        "x = df.drop(['class'], axis=1)\n",
        "y = df['class']\n",
        "# h-> 1 \n",
        "# g-> 0\n",
        "le = LabelEncoder()\n",
        "y = le.fit_transform(y)"
      ],
      "execution_count": 4,
      "outputs": []
    },
    {
      "cell_type": "markdown",
      "metadata": {
        "id": "MFtqqPDptEq4"
      },
      "source": [
        "### StandardScaler"
      ]
    },
    {
      "cell_type": "markdown",
      "metadata": {
        "id": "aJJRELT3qmGG"
      },
      "source": [
        "The goal of standardization is to change the values of the variables in order to use a common scale, while preserving differences in each value range. We standardize the data such that each feature has mean equal to 0 and variance equal to 1. This is done such that each feature will equally contribute when using a machine learning algorithm. For example, for models based on distance metrics (e.g. KNN, SVM), if one feature has a larger values range, such feature would dominate much more in the distance computation, and we don't want that.<br><br>\n",
        "Moreover standardization has to be done especially if we want to apply PCA. PCA projects the original data onto the directions which maximize the variance, so if we don't standardize, PCA would interpret a feature to have more variance just because of its bigger scale. So it will erroneously proceed by projecting the data onto that direction. Conversely, by standardizing, all features would have the same variance, and so they would have the same weight for the principal components calculation.\n",
        "<br><br>\n",
        "Then we split the dataset into training and test sets, representing respectively 80% and 20% of the entire data. This is done for not overfitting the model, since the test is performed on a different set."
      ]
    },
    {
      "cell_type": "code",
      "metadata": {
        "id": "-gwahSYTtUiq"
      },
      "source": [
        "#@title\n",
        "X_train, X_test, Y_train, Y_test = train_test_split(x, y, test_size=0.20, random_state=42)\n",
        "scaler = StandardScaler()\n",
        "X_train, X_test = scaler.fit_transform(X_train), scaler.transform(X_test)"
      ],
      "execution_count": 5,
      "outputs": []
    },
    {
      "cell_type": "code",
      "metadata": {
        "colab": {
          "base_uri": "https://localhost:8080/"
        },
        "id": "FsSg49gixhr4",
        "outputId": "ed63be5d-de0d-4bf6-eda9-97025080d899"
      },
      "source": [
        "X_train.shape, X_test.shape, Y_train.shape, Y_test.shape"
      ],
      "execution_count": 6,
      "outputs": [
        {
          "output_type": "execute_result",
          "data": {
            "text/plain": [
              "((15216, 10), (3804, 10), (15216,), (3804,))"
            ]
          },
          "metadata": {
            "tags": []
          },
          "execution_count": 6
        }
      ]
    },
    {
      "cell_type": "markdown",
      "metadata": {
        "id": "LnqxBJKDjKMl"
      },
      "source": [
        "### Dimensionality reduction"
      ]
    },
    {
      "cell_type": "markdown",
      "metadata": {
        "id": "wAakH5TIj-sD"
      },
      "source": [
        "Dimensionality reduction is the process of taking data in a high dimensional space and mapping it into a new space whose dimensionality is much smaller.\n",
        "There are several reason to reduce the dimensionality of the data:\n",
        "\n",
        "\n",
        "*   high dimensional data could lead to computational problems\n",
        "*   high dimensionality could lead to poor generalization of the learning algorithm\n",
        "*   dimensionality reduction can be used for interpretability of data and for finding meaningful structure of the data\n",
        "\n",
        "\n",
        "The method we are going to ue is called **Principal Component Analysis** (PCA). In PCA both the compression and the recovery are performed by liner transformations and the method finds the linear transformations for which the differences between the recovered vectors and the original vectors are minimal in the least squared sense.\n",
        "\n"
      ]
    },
    {
      "cell_type": "markdown",
      "metadata": {
        "id": "4a1IN_OGl3Hf"
      },
      "source": [
        "#### PCA"
      ]
    },
    {
      "cell_type": "markdown",
      "metadata": {
        "id": "HvvSKWg8l68X"
      },
      "source": [
        "The goal of PCA is to reduce dimensionality and then to be able to reconstruct our information by losing as little information as possible.<br>\n",
        "<p>\n",
        "Let us consider  $m$ vectors in $\\mathbb{R}^d$. We would like to reduce dimensionality of these vectors using a linear transformation. <br>\n",
        "A matrix $W \\in \\mathbb{R}^{n,d}$, where $n < d $, induces a mapping $x \\to Wx $, where $Wx\\in\\mathbb{R}^n$ is the lower dimensionality representation of $x$. Then a second matrix $U\\in\\mathbb{R}^{d,n}$ can be used to recover original vector $x$ from its compressed version. That is, for a compressed vector $y=Wx$,where $y$ is in the low dimensional space $\\mathbb{R}^n$, we can construct $\\hat x=Uy$ so that $\\hat x$ is the recovered version of $x$ and resides in the original high dimensional space $\\mathbb{R}^d$.\n",
        "</p>\n",
        "<p>\n",
        "In PCA, we find the compression matrix $W$ and the recovering matrix $U$ so that the total squared distance between the original and recovered vectors is minimal, we aim at solving the problem: <br>\n",
        "<p align=\"center\">\n",
        "$$argmin \\sum_{i}^{m}\\Vert x_i - UWx_i \\Vert_2^2$$\n",
        "</p>\n"
      ]
    },
    {
      "cell_type": "markdown",
      "metadata": {
        "id": "zQNyKYqqZXKq"
      },
      "source": [
        "Since PCA is data reduction we need a criteria to chose the new number of components. We will look at the cumulative explained variance ratio as shown in the plot below."
      ]
    },
    {
      "cell_type": "code",
      "metadata": {
        "colab": {
          "base_uri": "https://localhost:8080/",
          "height": 296
        },
        "id": "7XlrG8ExSi8U",
        "outputId": "2884d92b-356b-4a16-ea96-4d82569c960a"
      },
      "source": [
        "#@title\n",
        "# X_train_tot = np.concatenate((x_train,x_test),axis=0)\n",
        "pca = PCA(n_components=10).fit(X_train)\n",
        "\n",
        "\n",
        "pc_values = np.arange(pca.n_components) + 1\n",
        "plt.plot(pc_values, (np.cumsum(pca.explained_variance_ratio_)), marker = 'o', markersize = 4, color = 'b')\n",
        "plt.bar(pc_values, (pca.explained_variance_ratio_))\n",
        "z = [0.90, 0.90, 0.90, 0.90, 0.90, 0.90]\n",
        "\n",
        "plt.plot([1,2,3,4,5,6], z, color = 'r')\n",
        "plt.xlabel('Principal components index')\n",
        "plt.ylabel('Explained variance ratio')\n"
      ],
      "execution_count": 7,
      "outputs": [
        {
          "output_type": "execute_result",
          "data": {
            "text/plain": [
              "Text(0, 0.5, 'Explained variance ratio')"
            ]
          },
          "metadata": {
            "tags": []
          },
          "execution_count": 7
        },
        {
          "output_type": "display_data",
          "data": {
            "image/png": "[encoded data removed]",
            "text/plain": [
              "<Figure size 432x288 with 1 Axes>"
            ]
          },
          "metadata": {
            "tags": [],
            "needs_background": "light"
          }
        }
      ]
    },
    {
      "cell_type": "markdown",
      "metadata": {
        "id": "jjCexzQWYyZ-"
      },
      "source": [
        "We select **$ncomponents = 6$** since it is possible to explain more than $90\\% $ of the variance."
      ]
    },
    {
      "cell_type": "code",
      "metadata": {
        "id": "t8hB-nSae4Aa"
      },
      "source": [
        "#@title\n",
        "pca = PCA(n_components=6)\n",
        "\n",
        "x_pca = pca.fit_transform(X_train)\n",
        "\n",
        "X_test = pca.transform(X_test)"
      ],
      "execution_count": 8,
      "outputs": []
    },
    {
      "cell_type": "code",
      "metadata": {
        "cellView": "form",
        "id": "_J-gSoKbVKep"
      },
      "source": [
        "#@title \n",
        "# # components = pca.fit_transform(x)\n",
        "# # x_comp = pd.DataFrame(components)\n",
        "# # plt.scatter(x_comp[0],y=y)\n",
        "\n",
        "# import plotly.express as px\n",
        "# from sklearn.decomposition import PCA\n",
        "\n",
        "# df = px.data.iris()\n",
        "# X = df[['sepal_length', 'sepal_width', 'petal_length', 'petal_width']]\n",
        "# pca = PCA(n_components=3)\n",
        "# components = pca.fit_transform(x)\n",
        "# # ot = components[0]+components[2]\n",
        "# fig = px.scatter(components[:,1:3], x=0, y=1, color=y)\n",
        "# fig.show()"
      ],
      "execution_count": 87,
      "outputs": []
    },
    {
      "cell_type": "markdown",
      "metadata": {
        "id": "US0LJePy7tY-"
      },
      "source": [
        "# Model evaluation"
      ]
    },
    {
      "cell_type": "markdown",
      "metadata": {
        "id": "uuEnOFsZ5GL2"
      },
      "source": [
        "## Confusion matrix"
      ]
    },
    {
      "cell_type": "markdown",
      "metadata": {
        "id": "znYwDDb05Mnc"
      },
      "source": [
        "In this work we are facing a binary classification problem, so the two errors possible are false-positive (FP) and false-negative (FN). In these cases, we mis-classify respectively a prediction $y=1$, when the real value is 0, and a prediction $y=0$, when the real value is 1. One of the most common ways to represent these values is called Confusion Matrix, in which each row is an instance of the predictive class, and each column are the instances of the true classes. \n",
        "<p align=\"center\">\n",
        "  <img width=\"460\" height=\"300\" src=\"https://glassboxmedicine.files.wordpress.com/2019/02/confusion-matrix.png\">\n",
        "</p>\n",
        "As we can see in the figure, the diagonal values on the matrix represents the correct classification, while the off-diagonal values are the misclassified values. From the table, we can also compute the metrics to evaluate the classification models:\n",
        "\n",
        "*   **accuracy**: defined as the number of correct prediction divided by the total number of predictions.\n",
        "<center>$Accuracy = \\frac{TP+TN}{TP+TN+FP+FN}$</center><br>\n",
        "*   **recall** or TPR: defined as the number of correctly positive predicted values over the total actual positives. \n",
        "<center>$Recall = \\frac{TP}{TP+FN}$</center><br>\n",
        "*   **precision**: defined as the number of true predicted positives over the total number of positives.\n",
        "<center>$Precision=\\frac{TP}{TP+FP}$</center><br>\n",
        "*   **F1-score**: defined as a function of both precision and recall.\n",
        "<center>$F1-score= \\frac{2*recall*precision}{recall+precision}$</center><br>\n",
        "\n",
        "\n",
        "\n"
      ]
    },
    {
      "cell_type": "code",
      "metadata": {
        "id": "7EqiWiChc0a2"
      },
      "source": [
        "def plot_cm(y_test,y_pred):\n",
        "  plt.figure(figsize=(6,6))\n",
        "  cm = confusion_matrix(y_test, y_pred)\n",
        "  ax = sns.heatmap(cm, annot=True, cmap= 'Blues',xticklabels=['gamma','hadron'], yticklabels=['gamma','hadron'])\n",
        "  ax.set(xlabel=\"Predicted Label\", ylabel = \"True Label\")\n",
        "  plt.show()"
      ],
      "execution_count": 9,
      "outputs": []
    },
    {
      "cell_type": "markdown",
      "metadata": {
        "id": "CKPKyn9yzoWo"
      },
      "source": [
        "## ROC curve"
      ]
    },
    {
      "cell_type": "markdown",
      "metadata": {
        "id": "G8RPzWKhzqew"
      },
      "source": [
        "Suppose we are solving a binary decision problem. Also, assume we have labeled data set, $D=\\left\\{ (x_i,y_i)\\right\\}.$ Let $\\phi(x)=I(f(x)>\\tau$ be our decision rule, where $f(x)$ is measure of confidence that $y=1$, and $\\tau$ is some threshold parameter. For each given value of $\\tau$, we can apply our decision rule and count the number of true positives, false positives, true negatives and false negatives that occur. <br><br>\n",
        "However, rather than computing the TPR and FPR for a fixed threshold $\\tau$, we can run our detector for a set oh thresholds, and then plot the TPR vs FPR as an implicit function of $\\tau$. This is called a **receiver operating charateristic** or **ROC** curve.\n",
        "\n",
        "<p align=\"center\">\n",
        "<img width=\"440\" height=\"380\" src=\"https://deparkes.co.uk/wp-content/uploads/2018/02/roc_curve_1.png\">\n",
        "  <center>ROC curve</center>\n",
        "</p>\n",
        "\n",
        "Any system can achieve the point on the bottom left, $(FPR=0, TPR=0)$, by setting $\\tau = 1$ and thus classifying everything as negative: similarly any system can achieve the point on the top right, $(FPR=1,TPR=1)$, by setting $\\tau = 0$ and thus classifying everything as positive. A system that perfectly separates the positives from negatives has a threshold that can achieve the top left corner, $(FPR=0, TPR=1)$; by varying the threshold such a system will \"hug\" the left axis and then the top axis, as shown in the Figure above.\n",
        "<br>\n",
        "<br>\n",
        "The quality of a ROC curve is often summarized as a single number using the **area under the curve** or **AUC**. Higher AUC scores are better; the maximum is obviously 1. \n",
        "\n",
        "\n",
        "\n",
        "\n",
        "\n"
      ]
    },
    {
      "cell_type": "markdown",
      "metadata": {
        "id": "VvXNeTSj-n0X"
      },
      "source": [
        "## The bias-variance trade off\n"
      ]
    },
    {
      "cell_type": "markdown",
      "metadata": {
        "id": "J-Y68XhT-qyC"
      },
      "source": [
        "Unless one is very careful the training data can mislead the learner, and result in overfitting. To overcome this problem, we restricted the search space to some hypothesis class $H$. This can be seen as reflecting some prior knowledge that the learner has about the task - a belief that one of the members of the class $H$ is a low-error model for the task.<br><br>\n",
        "The **No-Free-Lunch theorem** states that no universal learner exists. To be more precise, the theorem states that for binary classification prediction tasks, for every learner there exists a distribution on which it fails. We say that the learner fails if its output hypothesis is likely to have a large risk ($\\geq.3$), whereas for the same distribution, there exists another learner that will output a hypothesis with a small risk. Therefore when approaching a particular learning problem, defined by some distribution $D$, we should have some prior knowledge on $D$. <br><br>\n",
        "**How to prevent such failures?**<br>\n",
        "We can use our prior knowledge to restrict our hypothesis class.<br><br>\n",
        "**But how should we choose a good hypothesis class?** <br>\n",
        "On the one hand, we want that this class includes the hypothesis that with the smallest error achievable; on the other hand, we have just seen that we cannot simply choose the richest class - the class of all functions over the given domain. In order to resolve this trade off we decompose the Empirical Risk in two: <br>\n",
        "<p align=\"center\">\n",
        "$L_D(h_S) = \\varepsilon_{app} + \\varepsilon_{est}$\n",
        "</p>\n",
        "\n",
        "\n",
        "1.  $ \\varepsilon_{app}$: the minimum risk achievable by a predictor in the hypothesis class. This term measures how much risk we have because we restrict ourselves to a specific class, namely, how much *inductive bias*. The approximation error does not depend on the sample size and is determined by the hypothesis class chosen. Enlarging the hypothesis class can decrease the approximation error\n",
        "2.   $ \\varepsilon_{est}$: the difference between the approximation error and the error achieved by the $ERM$ predictor. The estimation error results because the training error is only an estimate of the true risk, and so the predictor minimizing the empirical risk is only an estimate of the predictor minimizing the true risk.\n",
        "Since our goal is to minimize the total risk, we face tradeoff, called the *bias-complexity* tradeoff. \n",
        "\n",
        "<p align=\"center\">\n",
        "<img width=\"440\" height=\"380\" src=\"https://www.ncbi.nlm.nih.gov/books/NBK543534/bin/463627_1_En_8_Fig3_HTML.jpg\">\n",
        "  <center>bias-variance trade off</center>\n",
        "</p>\n",
        "\n",
        "<br><br>\n",
        "One of the common things to do for understanding which of the two errors the algorithm is suffering is plotting *learning curves*. In this representation the algorithm is trained on increasing part of the training set, strarting for example with $10\\%$ of the whole dataset, then with $20\\%$ and so no. At each steps the training error is calculated on both training and validation set. In this way if the trend of training error and the validation error remains constant for all the steps, then the algorithm is suffering of approximation error since it is not actually learning more, while if the validation error starts as a constant and then starts decreasing, we are in the estimation error scenario.\n"
      ]
    },
    {
      "cell_type": "code",
      "metadata": {
        "cellView": "form",
        "id": "JeQLDmtvfKJ8"
      },
      "source": [
        "#@title\n",
        "def plot_learningCurve(model, X, y):\n",
        "  train_sizes, train_scores, test_scores = learning_curve(model, X, y, cv=stratifyKfold, scoring='accuracy', n_jobs=-1, train_sizes=np.linspace(0.01, 1.0, 50))\n",
        "  train_mean = np.mean(train_scores, axis=1)\n",
        "  train_std = np.std(train_scores, axis=1)\n",
        "\n",
        "  test_mean = np.mean(test_scores, axis=1)\n",
        "  test_std = np.std(test_scores, axis=1)\n",
        "\n",
        "  plt.subplots(1, figsize=(6,6))\n",
        "  plt.plot(train_sizes, train_mean, '--', color=\"green\",  label=\"Training score\")\n",
        "  plt.plot(train_sizes, test_mean, color=\"orange\", label=\"Cross-Validation score\")\n",
        "\n",
        "  # plt.fill_between(train_sizes, train_mean - train_std, train_mean + train_std, color=\"#DDDDDD\")\n",
        "  # plt.fill_between(train_sizes, test_mean - test_std, test_mean + test_std, color=\"#DDDDDD\")\n",
        "\n",
        "  plt.title(\"Learning Curve\")\n",
        "  plt.xlabel(\"Training Set Size\"), plt.ylabel(\"Accuracy Score\"), plt.legend(loc=\"best\")\n",
        "  plt.tight_layout()\n",
        "  plt.show()"
      ],
      "execution_count": 10,
      "outputs": []
    },
    {
      "cell_type": "markdown",
      "metadata": {
        "id": "mxIZozQGh0S_"
      },
      "source": [
        "## SMOTE"
      ]
    },
    {
      "cell_type": "markdown",
      "metadata": {
        "id": "xo8JCdhzxf8C"
      },
      "source": [
        "Oversampling techniques are a family of techniques designed to equalize an unbalanced class distribution. Such techniques generate new minority class samples and add them to the original dataset to balance out the class distribution.\n",
        "<br><br>\n",
        "SMOTE (Synthetic Minority Over-sampling Technique) synthesizes new minority class samples starting from the existing samples. It works by iteratively following these steps:\n",
        "- First, select a random sample from the minority class\n",
        "- Second, select the k nearest neighbors for the selected sample, from the minority class\n",
        "- Last, one of the k neighbors is selected and a synthetic sample is generated as a point between the two selected samples\n",
        "\n",
        "<p align=\"center\">\n",
        "<img width=\"400\" height=\"140\" src=\"https://miro.medium.com/max/734/1*yRumRhn89acByodBz0H7oA.png\">\n",
        "  <center>Smote technique</center>\n",
        "</p>\n",
        "\n",
        "\n",
        "An **important consideration** that we have to do is that first we apply cross-validation: we exclude the sample to use as validation set and, after that, oversample the remaining of the minority class.\n",
        "\n",
        "<p align=\"center\">\n",
        "<img width=\"360\" height=\"250\" src=\"https://i.stack.imgur.com/L0p6c.png\">\n",
        "</p>\n"
      ]
    },
    {
      "cell_type": "markdown",
      "metadata": {
        "id": "8yUmc8oN9fVa"
      },
      "source": [
        "## Stratified k-fold"
      ]
    },
    {
      "cell_type": "markdown",
      "metadata": {
        "id": "O42PlQMu7xjI"
      },
      "source": [
        "In order to evaluate the different models and tune their parameters, **k-fold with stratify** has been used. The entire dataset is divided in k parts and at each iteration one subsample is used as validation set while the remaining parts are used as training set. This process is repeated k times. \n",
        "\n",
        "Since we want training and test to have similar distributions, we use stratify to maintain the proportions of the data, considering the binary classification.\n",
        "\n",
        "Then the final score of the k-fold cross validation procedure is obtained from the average of the k models individual scores. This gives us an idea about how well the model will perform on average, and what are its overall generalization capabilities when applied to different test sets.\n",
        "\n",
        "Last but foremost, CV is also used for finding the best model hyper-parameters (hyper-parameters tuning): the hyper-parameter values (taken from a selected list) giving the highest CV score are chosen for the final model, whose final evaluation is then assessed on the test set. This overall procedure is called Grid Search Cross Validation.\n",
        "<br><br><br>\n",
        "<p align=\"center\">\n",
        "<img width=\"460\" height=\"300\" src=\"https://scikit-learn.org/stable/_images/grid_search_cross_validation.png\">\n",
        "  <center>Stratified K-fold</center>\n",
        "</p>\n",
        "\n",
        "We choose to k=5 as it was experimentally proved that this value leads to better results."
      ]
    },
    {
      "cell_type": "code",
      "metadata": {
        "id": "A0pz9dM71rly"
      },
      "source": [
        "#@title\n",
        "stratifyKfold = StratifiedKFold(n_splits=5)"
      ],
      "execution_count": 11,
      "outputs": []
    },
    {
      "cell_type": "markdown",
      "metadata": {
        "id": "RQmBSEXK-k0u"
      },
      "source": [
        "# Algorithms\n"
      ]
    },
    {
      "cell_type": "markdown",
      "metadata": {
        "id": "WxhpL2ol_J4F"
      },
      "source": [
        "## Logistic Regression"
      ]
    },
    {
      "cell_type": "markdown",
      "metadata": {
        "id": "aorCE691i_jw"
      },
      "source": [
        "In logistic regression we learn a family of functions *h* from $\\mathbb{R}^d$ to the interval $[0,1]$. However logistic regression is used for classification task: we can interpret $h(x)$ as the *probability* that the label of **x** is 1. The hypothesis class associated with logistic regression is the composition of a sigmoid function over the class of linear functions $L_d$. The sigmoid function used in logistic regression is the *logistic function*, defined as <br><br>\n",
        "$\\phi_{sig} (z) = \\frac{1}{1+e^{-z}}= \\frac{e^z}{e^z+1}$\n",
        "\n",
        "The name sigmoid means S-shaped and it is referred to the plot of this function.\n",
        "<br><br>\n",
        "The hypothesis class is therefore: $H_{sig}=\\left\\{ x\\mapsto \\phi_{sig}(\\langle w,x \\rangle): w\\in\\mathbb{R}^d \\right\\}.$\n",
        "\n",
        "Note that when $\\langle w,x\\rangle$ is very large then $\\phi_{sig}(\\langle w,x \\rangle)$ is close to 1, whereas if $\\langle w,x \\rangle$ is very small then $\\phi_{sig}(\\langle w,x \\rangle)$ is close to 0. \n",
        "\n",
        "The logistic function simply models probability of output in terms of input and does not perform classification (it is not a classifier).  A common approach is to choose a cutoff value (usually 0.5) and classifying inputs with probability greater than the cutoff as one class and below as the other. Logistic Regression is a frequent choice to make a binary classification (as in this\n",
        "case). \n",
        "\n",
        "Next, we need to specify a loss function. We should define how bad it is to predict some $h_w(x) \\in [0,1]$  given that the true label is $y\\in \\left\\{ \\pm1 \\right\\}$. Clearly, we would like that  $h_w(x)$ would be large if $y=1$ and that $1-h_w(x)$ would be large if $y=-1$. The logistic loss function used in logistic regression penalizes $h_{w}$ based on the log of $1+e^{(-y\\langle w,x\\rangle)}$ (log is a monotonic function). That is, <br><br>\n",
        "$l(h_w,(x,y))=log(1+e^{(-y\\langle w,x\\rangle)})$"
      ]
    },
    {
      "cell_type": "markdown",
      "metadata": {
        "id": "R3FgA4LP234s"
      },
      "source": [
        "### ParamGrid"
      ]
    },
    {
      "cell_type": "code",
      "metadata": {
        "colab": {
          "base_uri": "https://localhost:8080/"
        },
        "id": "gal8HgQ4_MSk",
        "outputId": "a03c0bf2-a7f3-4f67-8c50-d11cb04516a0"
      },
      "source": [
        "#@title\n",
        "for train_index, test_index in stratifyKfold.split(x_pca, Y_train):\n",
        "  print(\"TRAIN:\", train_index, \"TEST:\", test_index)\n",
        "  x_train, x_test = x_pca[train_index], x_pca[test_index]\n",
        "  y_train, y_test = Y_train[train_index], Y_train[test_index]\n",
        "\n",
        "  \n",
        "  print('Original dataset shape %s' % Counter(y_train))\n",
        "  sm = SMOTE(random_state=42)\n",
        "  X_res, y_res = sm.fit_resample(x_train, y_train)\n",
        "  print('Resampled dataset shape %s' % Counter(y_res))\n",
        "\n",
        "\n",
        "  hpyerparameters_reg = {\n",
        "      \"penalty\": ['l2'],\n",
        "      \"C\": [0.5,1,10],\n",
        "      \"max_iter\": [100,500]\n",
        "  }\n",
        "\n",
        "  for config in ParameterGrid(hpyerparameters_reg):\n",
        "    print(f\"Current training: {config}\")\n",
        "    logReg = LogisticRegression(**config)\n",
        "    logReg.fit(X_res, y_res)\n",
        "\n",
        "    y_pred = logReg.predict(x_test)\n",
        "    print(f'Accuracy Logistic Regression: {accuracy_score(y_test,y_pred)}')\n",
        "    print(f'Precision Logistic Regression: {precision_score(y_test,y_pred)}')\n",
        "    print(f'Recall Logistic Regression: {recall_score(y_test,y_pred)}')\n",
        "    print(f'f1_score Logistic Regression: {f1_score(y_test,y_pred)}')\n",
        "    print('\\n\\n')\n",
        "\n"
      ],
      "execution_count": 12,
      "outputs": [
        {
          "output_type": "stream",
          "text": [
            "TRAIN: [ 3044  3045  3046 ... 15213 15214 15215] TEST: [   0    1    2 ... 3041 3042 3043]\n",
            "Original dataset shape Counter({0: 7897, 1: 4275})\n",
            "Resampled dataset shape Counter({1: 7897, 0: 7897})\n",
            "Current training: {'C': 0.5, 'max_iter': 100, 'penalty': 'l2'}\n",
            "Accuracy Logistic Regression: 0.7825229960578186\n",
            "Precision Logistic Regression: 0.6841628959276018\n",
            "Recall Logistic Regression: 0.7072029934518241\n",
            "f1_score Logistic Regression: 0.6954921803127874\n",
            "\n",
            "\n",
            "\n",
            "Current training: {'C': 0.5, 'max_iter': 500, 'penalty': 'l2'}\n",
            "Accuracy Logistic Regression: 0.7825229960578186\n",
            "Precision Logistic Regression: 0.6841628959276018\n",
            "Recall Logistic Regression: 0.7072029934518241\n",
            "f1_score Logistic Regression: 0.6954921803127874\n",
            "\n",
            "\n",
            "\n",
            "Current training: {'C': 1, 'max_iter': 100, 'penalty': 'l2'}\n"
          ],
          "name": "stdout"
        },
        {
          "output_type": "stream",
          "text": [
            "/usr/local/lib/python3.7/dist-packages/sklearn/utils/deprecation.py:87: FutureWarning: Function safe_indexing is deprecated; safe_indexing is deprecated in version 0.22 and will be removed in version 0.24.\n",
            "  warnings.warn(msg, category=FutureWarning)\n"
          ],
          "name": "stderr"
        },
        {
          "output_type": "stream",
          "text": [
            "Accuracy Logistic Regression: 0.7825229960578186\n",
            "Precision Logistic Regression: 0.6841628959276018\n",
            "Recall Logistic Regression: 0.7072029934518241\n",
            "f1_score Logistic Regression: 0.6954921803127874\n",
            "\n",
            "\n",
            "\n",
            "Current training: {'C': 1, 'max_iter': 500, 'penalty': 'l2'}\n",
            "Accuracy Logistic Regression: 0.7825229960578186\n",
            "Precision Logistic Regression: 0.6841628959276018\n",
            "Recall Logistic Regression: 0.7072029934518241\n",
            "f1_score Logistic Regression: 0.6954921803127874\n",
            "\n",
            "\n",
            "\n",
            "Current training: {'C': 10, 'max_iter': 100, 'penalty': 'l2'}\n",
            "Accuracy Logistic Regression: 0.7825229960578186\n",
            "Precision Logistic Regression: 0.6841628959276018\n",
            "Recall Logistic Regression: 0.7072029934518241\n",
            "f1_score Logistic Regression: 0.6954921803127874\n",
            "\n",
            "\n",
            "\n",
            "Current training: {'C': 10, 'max_iter': 500, 'penalty': 'l2'}\n",
            "Accuracy Logistic Regression: 0.7825229960578186\n",
            "Precision Logistic Regression: 0.6841628959276018\n",
            "Recall Logistic Regression: 0.7072029934518241\n",
            "f1_score Logistic Regression: 0.6954921803127874\n",
            "\n",
            "\n",
            "\n",
            "TRAIN: [    0     1     2 ... 15213 15214 15215] TEST: [3044 3045 3046 ... 6116 6119 6122]\n",
            "Original dataset shape Counter({0: 7897, 1: 4276})\n"
          ],
          "name": "stdout"
        },
        {
          "output_type": "stream",
          "text": [
            "/usr/local/lib/python3.7/dist-packages/sklearn/utils/deprecation.py:87: FutureWarning: Function safe_indexing is deprecated; safe_indexing is deprecated in version 0.22 and will be removed in version 0.24.\n",
            "  warnings.warn(msg, category=FutureWarning)\n"
          ],
          "name": "stderr"
        },
        {
          "output_type": "stream",
          "text": [
            "Resampled dataset shape Counter({0: 7897, 1: 7897})\n",
            "Current training: {'C': 0.5, 'max_iter': 100, 'penalty': 'l2'}\n",
            "Accuracy Logistic Regression: 0.7903384817614196\n",
            "Precision Logistic Regression: 0.6929982046678635\n",
            "Recall Logistic Regression: 0.7228464419475655\n",
            "f1_score Logistic Regression: 0.7076076993583869\n",
            "\n",
            "\n",
            "\n",
            "Current training: {'C': 0.5, 'max_iter': 500, 'penalty': 'l2'}\n",
            "Accuracy Logistic Regression: 0.7903384817614196\n",
            "Precision Logistic Regression: 0.6929982046678635\n",
            "Recall Logistic Regression: 0.7228464419475655\n",
            "f1_score Logistic Regression: 0.7076076993583869\n",
            "\n",
            "\n",
            "\n",
            "Current training: {'C': 1, 'max_iter': 100, 'penalty': 'l2'}\n",
            "Accuracy Logistic Regression: 0.7903384817614196\n",
            "Precision Logistic Regression: 0.6929982046678635\n",
            "Recall Logistic Regression: 0.7228464419475655\n",
            "f1_score Logistic Regression: 0.7076076993583869\n",
            "\n",
            "\n",
            "\n",
            "Current training: {'C': 1, 'max_iter': 500, 'penalty': 'l2'}\n",
            "Accuracy Logistic Regression: 0.7903384817614196\n",
            "Precision Logistic Regression: 0.6929982046678635\n",
            "Recall Logistic Regression: 0.7228464419475655\n",
            "f1_score Logistic Regression: 0.7076076993583869\n",
            "\n",
            "\n",
            "\n",
            "Current training: {'C': 10, 'max_iter': 100, 'penalty': 'l2'}\n",
            "Accuracy Logistic Regression: 0.7903384817614196\n",
            "Precision Logistic Regression: 0.6929982046678635\n",
            "Recall Logistic Regression: 0.7228464419475655\n",
            "f1_score Logistic Regression: 0.7076076993583869\n",
            "\n",
            "\n",
            "\n",
            "Current training: {'C': 10, 'max_iter': 500, 'penalty': 'l2'}\n",
            "Accuracy Logistic Regression: 0.7903384817614196\n",
            "Precision Logistic Regression: 0.6929982046678635\n",
            "Recall Logistic Regression: 0.7228464419475655\n",
            "f1_score Logistic Regression: 0.7076076993583869\n",
            "\n",
            "\n",
            "\n",
            "TRAIN: [    0     1     2 ... 15213 15214 15215] TEST: [6068 6069 6070 ... 9151 9152 9159]\n",
            "Original dataset shape Counter({0: 7898, 1: 4275})\n"
          ],
          "name": "stdout"
        },
        {
          "output_type": "stream",
          "text": [
            "/usr/local/lib/python3.7/dist-packages/sklearn/utils/deprecation.py:87: FutureWarning: Function safe_indexing is deprecated; safe_indexing is deprecated in version 0.22 and will be removed in version 0.24.\n",
            "  warnings.warn(msg, category=FutureWarning)\n"
          ],
          "name": "stderr"
        },
        {
          "output_type": "stream",
          "text": [
            "Resampled dataset shape Counter({0: 7898, 1: 7898})\n",
            "Current training: {'C': 0.5, 'max_iter': 100, 'penalty': 'l2'}\n",
            "Accuracy Logistic Regression: 0.7952678278015116\n",
            "Precision Logistic Regression: 0.7005395683453237\n",
            "Recall Logistic Regression: 0.7287184284377923\n",
            "f1_score Logistic Regression: 0.714351215038973\n",
            "\n",
            "\n",
            "\n",
            "Current training: {'C': 0.5, 'max_iter': 500, 'penalty': 'l2'}\n",
            "Accuracy Logistic Regression: 0.7952678278015116\n",
            "Precision Logistic Regression: 0.7005395683453237\n",
            "Recall Logistic Regression: 0.7287184284377923\n",
            "f1_score Logistic Regression: 0.714351215038973\n",
            "\n",
            "\n",
            "\n",
            "Current training: {'C': 1, 'max_iter': 100, 'penalty': 'l2'}\n",
            "Accuracy Logistic Regression: 0.7952678278015116\n",
            "Precision Logistic Regression: 0.7005395683453237\n",
            "Recall Logistic Regression: 0.7287184284377923\n",
            "f1_score Logistic Regression: 0.714351215038973\n",
            "\n",
            "\n",
            "\n",
            "Current training: {'C': 1, 'max_iter': 500, 'penalty': 'l2'}\n",
            "Accuracy Logistic Regression: 0.7952678278015116\n",
            "Precision Logistic Regression: 0.7005395683453237\n",
            "Recall Logistic Regression: 0.7287184284377923\n",
            "f1_score Logistic Regression: 0.714351215038973\n",
            "\n",
            "\n",
            "\n",
            "Current training: {'C': 10, 'max_iter': 100, 'penalty': 'l2'}\n",
            "Accuracy Logistic Regression: 0.7952678278015116\n",
            "Precision Logistic Regression: 0.7005395683453237\n",
            "Recall Logistic Regression: 0.7287184284377923\n",
            "f1_score Logistic Regression: 0.714351215038973\n",
            "\n",
            "\n",
            "\n",
            "Current training: {'C': 10, 'max_iter': 500, 'penalty': 'l2'}\n",
            "Accuracy Logistic Regression: 0.7952678278015116\n",
            "Precision Logistic Regression: 0.7005395683453237\n",
            "Recall Logistic Regression: 0.7287184284377923\n",
            "f1_score Logistic Regression: 0.714351215038973\n",
            "\n",
            "\n",
            "\n",
            "TRAIN: [    0     1     2 ... 15213 15214 15215] TEST: [ 9117  9118  9122 ... 12176 12177 12178]\n",
            "Original dataset shape Counter({0: 7898, 1: 4275})\n",
            "Resampled dataset shape Counter({0: 7898, 1: 7898})\n",
            "Current training: {'C': 0.5, 'max_iter': 100, 'penalty': 'l2'}\n"
          ],
          "name": "stdout"
        },
        {
          "output_type": "stream",
          "text": [
            "/usr/local/lib/python3.7/dist-packages/sklearn/utils/deprecation.py:87: FutureWarning: Function safe_indexing is deprecated; safe_indexing is deprecated in version 0.22 and will be removed in version 0.24.\n",
            "  warnings.warn(msg, category=FutureWarning)\n"
          ],
          "name": "stderr"
        },
        {
          "output_type": "stream",
          "text": [
            "Accuracy Logistic Regression: 0.7748931975024647\n",
            "Precision Logistic Regression: 0.6675392670157068\n",
            "Recall Logistic Regression: 0.715622076707203\n",
            "f1_score Logistic Regression: 0.6907449209932279\n",
            "\n",
            "\n",
            "\n",
            "Current training: {'C': 0.5, 'max_iter': 500, 'penalty': 'l2'}\n",
            "Accuracy Logistic Regression: 0.7748931975024647\n",
            "Precision Logistic Regression: 0.6675392670157068\n",
            "Recall Logistic Regression: 0.715622076707203\n",
            "f1_score Logistic Regression: 0.6907449209932279\n",
            "\n",
            "\n",
            "\n",
            "Current training: {'C': 1, 'max_iter': 100, 'penalty': 'l2'}\n",
            "Accuracy Logistic Regression: 0.7748931975024647\n",
            "Precision Logistic Regression: 0.6675392670157068\n",
            "Recall Logistic Regression: 0.715622076707203\n",
            "f1_score Logistic Regression: 0.6907449209932279\n",
            "\n",
            "\n",
            "\n",
            "Current training: {'C': 1, 'max_iter': 500, 'penalty': 'l2'}\n",
            "Accuracy Logistic Regression: 0.7748931975024647\n",
            "Precision Logistic Regression: 0.6675392670157068\n",
            "Recall Logistic Regression: 0.715622076707203\n",
            "f1_score Logistic Regression: 0.6907449209932279\n",
            "\n",
            "\n",
            "\n",
            "Current training: {'C': 10, 'max_iter': 100, 'penalty': 'l2'}\n",
            "Accuracy Logistic Regression: 0.7748931975024647\n",
            "Precision Logistic Regression: 0.6675392670157068\n",
            "Recall Logistic Regression: 0.715622076707203\n",
            "f1_score Logistic Regression: 0.6907449209932279\n",
            "\n",
            "\n",
            "\n",
            "Current training: {'C': 10, 'max_iter': 500, 'penalty': 'l2'}\n",
            "Accuracy Logistic Regression: 0.7748931975024647\n",
            "Precision Logistic Regression: 0.6675392670157068\n",
            "Recall Logistic Regression: 0.715622076707203\n",
            "f1_score Logistic Regression: 0.6907449209932279\n",
            "\n",
            "\n",
            "\n",
            "TRAIN: [    0     1     2 ... 12176 12177 12178] TEST: [12161 12163 12167 ... 15213 15214 15215]\n",
            "Original dataset shape Counter({0: 7898, 1: 4275})\n",
            "Resampled dataset shape Counter({0: 7898, 1: 7898})"
          ],
          "name": "stdout"
        },
        {
          "output_type": "stream",
          "text": [
            "/usr/local/lib/python3.7/dist-packages/sklearn/utils/deprecation.py:87: FutureWarning: Function safe_indexing is deprecated; safe_indexing is deprecated in version 0.22 and will be removed in version 0.24.\n",
            "  warnings.warn(msg, category=FutureWarning)\n"
          ],
          "name": "stderr"
        },
        {
          "output_type": "stream",
          "text": [
            "\n",
            "Current training: {'C': 0.5, 'max_iter': 100, 'penalty': 'l2'}\n",
            "Accuracy Logistic Regression: 0.776536312849162\n",
            "Precision Logistic Regression: 0.6760180995475114\n",
            "Recall Logistic Regression: 0.6987839101964453\n",
            "f1_score Logistic Regression: 0.6872125114995401\n",
            "\n",
            "\n",
            "\n",
            "Current training: {'C': 0.5, 'max_iter': 500, 'penalty': 'l2'}\n",
            "Accuracy Logistic Regression: 0.776536312849162\n",
            "Precision Logistic Regression: 0.6760180995475114\n",
            "Recall Logistic Regression: 0.6987839101964453\n",
            "f1_score Logistic Regression: 0.6872125114995401\n",
            "\n",
            "\n",
            "\n",
            "Current training: {'C': 1, 'max_iter': 100, 'penalty': 'l2'}\n",
            "Accuracy Logistic Regression: 0.776536312849162\n",
            "Precision Logistic Regression: 0.6760180995475114\n",
            "Recall Logistic Regression: 0.6987839101964453\n",
            "f1_score Logistic Regression: 0.6872125114995401\n",
            "\n",
            "\n",
            "\n",
            "Current training: {'C': 1, 'max_iter': 500, 'penalty': 'l2'}\n",
            "Accuracy Logistic Regression: 0.776536312849162\n",
            "Precision Logistic Regression: 0.6760180995475114\n",
            "Recall Logistic Regression: 0.6987839101964453\n",
            "f1_score Logistic Regression: 0.6872125114995401\n",
            "\n",
            "\n",
            "\n",
            "Current training: {'C': 10, 'max_iter': 100, 'penalty': 'l2'}\n",
            "Accuracy Logistic Regression: 0.776536312849162\n",
            "Precision Logistic Regression: 0.6760180995475114\n",
            "Recall Logistic Regression: 0.6987839101964453\n",
            "f1_score Logistic Regression: 0.6872125114995401\n",
            "\n",
            "\n",
            "\n",
            "Current training: {'C': 10, 'max_iter': 500, 'penalty': 'l2'}\n",
            "Accuracy Logistic Regression: 0.776536312849162\n",
            "Precision Logistic Regression: 0.6760180995475114\n",
            "Recall Logistic Regression: 0.6987839101964453\n",
            "f1_score Logistic Regression: 0.6872125114995401\n",
            "\n",
            "\n",
            "\n"
          ],
          "name": "stdout"
        }
      ]
    },
    {
      "cell_type": "markdown",
      "metadata": {
        "id": "M1AXtBAC274V"
      },
      "source": [
        "### Test the best model on validation set"
      ]
    },
    {
      "cell_type": "code",
      "metadata": {
        "colab": {
          "base_uri": "https://localhost:8080/"
        },
        "id": "rh_TNY9S2a80",
        "outputId": "a2406ba2-60b0-4d7e-f91f-493cecb0a0c4"
      },
      "source": [
        "#@title\n",
        "model = LogisticRegression(C=0.5, max_iter=500, penalty= 'l2')\n",
        "model.fit(x_pca,Y_train)\n",
        "y_pred = model.predict(X_test)\n",
        "\n",
        "print(f'Accuracy Logistic Regression: {accuracy_score(Y_test,y_pred)}')\n",
        "print(f'Precision Logistic Regression: {precision_score(Y_test,y_pred)}')\n",
        "print(f'Recall Logistic Regression: {recall_score(Y_test,y_pred)}')\n",
        "print(f'f1_score Logistic Regression: {f1_score(Y_test,y_pred)}')\n"
      ],
      "execution_count": 13,
      "outputs": [
        {
          "output_type": "stream",
          "text": [
            "Accuracy Logistic Regression: 0.7839116719242902\n",
            "Precision Logistic Regression: 0.7495219885277247\n",
            "Recall Logistic Regression: 0.5833333333333334\n",
            "f1_score Logistic Regression: 0.6560669456066945\n"
          ],
          "name": "stdout"
        }
      ]
    },
    {
      "cell_type": "markdown",
      "metadata": {
        "id": "cy0UWI2u3IxP"
      },
      "source": [
        "### Confusion Matrix"
      ]
    },
    {
      "cell_type": "code",
      "metadata": {
        "colab": {
          "base_uri": "https://localhost:8080/",
          "height": 388
        },
        "cellView": "form",
        "id": "fnrKzYWp3K7i",
        "outputId": "cd3c0b56-08be-461e-d18f-6e91051ae230"
      },
      "source": [
        "#@title\n",
        "plot_cm(Y_test,y_pred)"
      ],
      "execution_count": 14,
      "outputs": [
        {
          "output_type": "display_data",
          "data": {
            "image/png": "[encoded data removed]",
            "text/plain": [
              "<Figure size 432x432 with 2 Axes>"
            ]
          },
          "metadata": {
            "tags": [],
            "needs_background": "light"
          }
        }
      ]
    },
    {
      "cell_type": "markdown",
      "metadata": {
        "id": "-ZXNWtWj3Nrj"
      },
      "source": [
        "### ROC curve"
      ]
    },
    {
      "cell_type": "code",
      "metadata": {
        "colab": {
          "base_uri": "https://localhost:8080/",
          "height": 367
        },
        "cellView": "form",
        "id": "z7yVs_MpAXGu",
        "outputId": "901ee751-86f9-450d-9b12-82abb4c33108"
      },
      "source": [
        "#@title\n",
        "model.fit(x_train,y_train)\n",
        "y_score1 = model.predict_proba(x_test)[:,1]\n",
        "false_positive_rate1, true_positive_rate1, threshold1 = roc_curve(y_test, y_score1)\n",
        "print('roc_auc_score for LogReg: ', roc_auc_score(y_test, y_score1))\n",
        "\n",
        "plt.subplots(1, figsize=(5,5))\n",
        "plt.title('Receiver Operating Characteristic - DecisionTree')\n",
        "plt.plot(false_positive_rate1, true_positive_rate1)\n",
        "plt.plot([0, 1], ls=\"--\")\n",
        "plt.plot([0, 0], [1, 0] , c=\".7\"), plt.plot([1, 1] , c=\".7\")\n",
        "plt.ylabel('True Positive Rate')\n",
        "plt.xlabel('False Positive Rate')\n",
        "plt.show()"
      ],
      "execution_count": 15,
      "outputs": [
        {
          "output_type": "stream",
          "text": [
            "roc_auc_score for LogReg:  0.8190465764953754\n"
          ],
          "name": "stdout"
        },
        {
          "output_type": "display_data",
          "data": {
            "image/png": "[encoded data removed]",
            "text/plain": [
              "<Figure size 360x360 with 1 Axes>"
            ]
          },
          "metadata": {
            "tags": [],
            "needs_background": "light"
          }
        }
      ]
    },
    {
      "cell_type": "markdown",
      "metadata": {
        "id": "ZBGT8gpGVLBx"
      },
      "source": [
        "### Learning curve"
      ]
    },
    {
      "cell_type": "code",
      "metadata": {
        "colab": {
          "base_uri": "https://localhost:8080/",
          "height": 441
        },
        "id": "roGHa1zEVNKb",
        "outputId": "2542a969-ba3d-4047-c01b-d451827f5280"
      },
      "source": [
        "#@title\n",
        "plot_learningCurve(model, X_train, Y_train)\n"
      ],
      "execution_count": 16,
      "outputs": [
        {
          "output_type": "display_data",
          "data": {
            "image/png": "[encoded data removed]",
            "text/plain": [
              "<Figure size 432x432 with 1 Axes>"
            ]
          },
          "metadata": {
            "tags": [],
            "needs_background": "light"
          }
        }
      ]
    },
    {
      "cell_type": "markdown",
      "metadata": {
        "id": "x2SwCYIcEiQh"
      },
      "source": [
        "## Decision Tree"
      ]
    },
    {
      "cell_type": "markdown",
      "metadata": {
        "id": "_vGkGZDiFImp"
      },
      "source": [
        "A decision tree is a predictor , h : X $\\to$ Y, that predicts the label associated with an instance **x** by traveling from a root node of a tree to a leaf. At each node on the root-to-leaf path, the successor child is chosen on the basis of a splitting of the input space. Usually the splitting is based on one of the features of **x**. A leaf contains a specific label.\n",
        "\n",
        "In training phase, unfortunately, since it is computationally infeasible to consider every possible partition of the feature space, decision tree learning algorithms are based on heuristics such as a greedy approach, where the three is constructed gradually, and locally optimal decisions are made at the construction of each node.\n",
        "The algorithm at each step chooses the best predictor to split according to some criteria. The most commons ones are:\n",
        "\n",
        "\n",
        "\n",
        "1. **Gini Index**:  $1-\\sum_{i=1}^{n} p_i^2 $\n",
        "\n",
        "2. **Cross Entropy**: $\\sum_{i=1}^{n} -p_ilog_2p_i$ <br>\n",
        "\n",
        "\n",
        "$p_i$ is the probability of an object being classified to a particular class. <br><br>\n",
        "\n",
        "\n",
        "Advantages of a decision tree: <br>\n",
        "*   Easy to understand: decision trees are very easy to read and interpret, in  fact they do not require any statistical knowledge and its graphical representation is very intuitive;\n",
        "*   useful in Data Exploration: it is very easy to identify most significant variables and the relation between them.\n",
        "*   number of hyper-parameters to be tuned is low.\n",
        "<br><br>\n",
        "\n",
        "Disadvantages of a decision tree: <br>\n",
        "*   Over-fitting: decision trees may not generalize the data well due to over-complex trees. This issue can be solved by introducing some constraints and pruning;\n",
        "\n"
      ]
    },
    {
      "cell_type": "markdown",
      "metadata": {
        "id": "kQc9vWbN3Z4y"
      },
      "source": [
        "### ParamGrid"
      ]
    },
    {
      "cell_type": "code",
      "metadata": {
        "colab": {
          "base_uri": "https://localhost:8080/"
        },
        "id": "--x2lmVu3bg9",
        "outputId": "088d823e-91fd-4a4a-d5a4-939a5797e495"
      },
      "source": [
        "#@title\n",
        "import json\n",
        "for train_index, test_index in stratifyKfold.split(x_pca, Y_train):\n",
        "  print(\"TRAIN:\", train_index, \"TEST:\", test_index)\n",
        "  x_train, x_test = x_pca[train_index], x_pca[test_index]\n",
        "  y_train, y_test = Y_train[train_index], Y_train[test_index]\n",
        "\n",
        "  \n",
        "  print('Original dataset shape %s' % Counter(y_train))\n",
        "  sm = SMOTE(random_state=42)\n",
        "  X_res, y_res = sm.fit_resample(x_train, y_train)\n",
        "  print('Resampled dataset shape %s' % Counter(y_res))\n",
        "\n",
        "\n",
        "  hpyerparameters_decision_tree = {\n",
        "      \"criterion\": ['gini','entropy'],\n",
        "      # \"splitter\": ['best','random'],\n",
        "      \"max_depth\": [2,4,6,8],\n",
        "      \"random_state\": [33]\n",
        "  }\n",
        "\n",
        "  for config in ParameterGrid(hpyerparameters_decision_tree):\n",
        "    print(f\"Current training: {config}\")\n",
        "    decision_tree = DecisionTreeClassifier(**config)\n",
        "    decision_tree.fit(X_res, y_res)\n",
        "\n",
        "    y_pred = decision_tree.predict(x_test)\n",
        "    print(f'Accuracy Decision Tree: {accuracy_score(y_test,y_pred)}')\n",
        "    print(f'Precision Decision Tree: {precision_score(y_test,y_pred)}')\n",
        "    print(f'Recall Decision Tree: {recall_score(y_test,y_pred)}')\n",
        "    print(f'f1_score Decision Tree: {f1_score(y_test,y_pred)}')\n",
        "    print('\\n\\n')"
      ],
      "execution_count": 17,
      "outputs": [
        {
          "output_type": "stream",
          "text": [
            "TRAIN: [ 3044  3045  3046 ... 15213 15214 15215] TEST: [   0    1    2 ... 3041 3042 3043]\n",
            "Original dataset shape Counter({0: 7897, 1: 4275})\n",
            "Resampled dataset shape Counter({1: 7897, 0: 7897})\n",
            "Current training: {'criterion': 'gini', 'max_depth': 2, 'random_state': 33}\n",
            "Accuracy Decision Tree: 0.6967805519053877\n",
            "Precision Decision Tree: 0.5547226386806596\n",
            "Recall Decision Tree: 0.6922357343311506\n",
            "f1_score Decision Tree: 0.6158967956720766\n",
            "\n",
            "\n",
            "\n",
            "Current training: {'criterion': 'gini', 'max_depth': 4, 'random_state': 33}\n",
            "Accuracy Decision Tree: 0.7105781865965834\n",
            "Precision Decision Tree: 0.5651872399445215\n",
            "Recall Decision Tree: 0.7623947614593077\n",
            "f1_score Decision Tree: 0.6491437674233373\n",
            "\n",
            "\n",
            "\n",
            "Current training: {'criterion': 'gini', 'max_depth': 6, 'random_state': 33}\n"
          ],
          "name": "stdout"
        },
        {
          "output_type": "stream",
          "text": [
            "/usr/local/lib/python3.7/dist-packages/sklearn/utils/deprecation.py:87: FutureWarning: Function safe_indexing is deprecated; safe_indexing is deprecated in version 0.22 and will be removed in version 0.24.\n",
            "  warnings.warn(msg, category=FutureWarning)\n"
          ],
          "name": "stderr"
        },
        {
          "output_type": "stream",
          "text": [
            "Accuracy Decision Tree: 0.771353482260184\n",
            "Precision Decision Tree: 0.6637401229148375\n",
            "Recall Decision Tree: 0.7072029934518241\n",
            "f1_score Decision Tree: 0.6847826086956522\n",
            "\n",
            "\n",
            "\n",
            "Current training: {'criterion': 'gini', 'max_depth': 8, 'random_state': 33}\n",
            "Accuracy Decision Tree: 0.7746386333771353\n",
            "Precision Decision Tree: 0.6748858447488585\n",
            "Recall Decision Tree: 0.6913002806361085\n",
            "f1_score Decision Tree: 0.6829944547134936\n",
            "\n",
            "\n",
            "\n",
            "Current training: {'criterion': 'entropy', 'max_depth': 2, 'random_state': 33}\n",
            "Accuracy Decision Tree: 0.6974375821287779\n",
            "Precision Decision Tree: 0.5561456752655539\n",
            "Recall Decision Tree: 0.6856875584658559\n",
            "f1_score Decision Tree: 0.6141600335148721\n",
            "\n",
            "\n",
            "\n",
            "Current training: {'criterion': 'entropy', 'max_depth': 4, 'random_state': 33}\n",
            "Accuracy Decision Tree: 0.7296320630749015\n",
            "Precision Decision Tree: 0.5949074074074074\n",
            "Recall Decision Tree: 0.7212347988774556\n",
            "f1_score Decision Tree: 0.6520084566596195\n",
            "\n",
            "\n",
            "\n",
            "Current training: {'criterion': 'entropy', 'max_depth': 6, 'random_state': 33}\n",
            "Accuracy Decision Tree: 0.759526938239159\n",
            "Precision Decision Tree: 0.6516651665166516\n",
            "Recall Decision Tree: 0.6772684752104771\n",
            "f1_score Decision Tree: 0.6642201834862386\n",
            "\n",
            "\n",
            "\n",
            "Current training: {'criterion': 'entropy', 'max_depth': 8, 'random_state': 33}\n",
            "Accuracy Decision Tree: 0.771353482260184\n",
            "Precision Decision Tree: 0.6651904340124003\n",
            "Recall Decision Tree: 0.7025257249766137\n",
            "f1_score Decision Tree: 0.6833484986351228\n",
            "\n",
            "\n",
            "\n",
            "TRAIN: [    0     1     2 ... 15213 15214 15215] TEST: [3044 3045 3046 ... 6116 6119 6122]\n",
            "Original dataset shape Counter({0: 7897, 1: 4276})\n",
            "Resampled dataset shape Counter({0: 7897, 1: 7897})\n",
            "Current training: {'criterion': 'gini', 'max_depth': 2, 'random_state': 33}\n",
            "Accuracy Decision Tree: 0.7229707525468287\n",
            "Precision Decision Tree: 0.5879593432369038\n",
            "Recall Decision Tree: 0.704119850187266\n",
            "f1_score Decision Tree: 0.6408180656156797\n",
            "\n",
            "\n",
            "\n",
            "Current training: {'criterion': 'gini', 'max_depth': 4, 'random_state': 33}\n",
            "Accuracy Decision Tree: 0.735787052251068\n",
            "Precision Decision Tree: 0.600609756097561\n"
          ],
          "name": "stdout"
        },
        {
          "output_type": "stream",
          "text": [
            "/usr/local/lib/python3.7/dist-packages/sklearn/utils/deprecation.py:87: FutureWarning: Function safe_indexing is deprecated; safe_indexing is deprecated in version 0.22 and will be removed in version 0.24.\n",
            "  warnings.warn(msg, category=FutureWarning)\n"
          ],
          "name": "stderr"
        },
        {
          "output_type": "stream",
          "text": [
            "Recall Decision Tree: 0.7378277153558053\n",
            "f1_score Decision Tree: 0.6621848739495798\n",
            "\n",
            "\n",
            "\n",
            "Current training: {'criterion': 'gini', 'max_depth': 6, 'random_state': 33}\n",
            "Accuracy Decision Tree: 0.7719355898784095\n",
            "Precision Decision Tree: 0.6675627240143369\n",
            "Recall Decision Tree: 0.697565543071161\n",
            "f1_score Decision Tree: 0.6822344322344321\n",
            "\n",
            "\n",
            "\n",
            "Current training: {'criterion': 'gini', 'max_depth': 8, 'random_state': 33}\n",
            "Accuracy Decision Tree: 0.7854091357213276\n",
            "Precision Decision Tree: 0.7012609117361784\n",
            "Recall Decision Tree: 0.6769662921348315\n",
            "f1_score Decision Tree: 0.6888994759409243\n",
            "\n",
            "\n",
            "\n",
            "Current training: {'criterion': 'entropy', 'max_depth': 2, 'random_state': 33}\n",
            "Accuracy Decision Tree: 0.7229707525468287\n",
            "Precision Decision Tree: 0.5903614457831325\n",
            "Recall Decision Tree: 0.6882022471910112\n",
            "f1_score Decision Tree: 0.635538261997406\n",
            "\n",
            "\n",
            "\n",
            "Current training: {'criterion': 'entropy', 'max_depth': 4, 'random_state': 33}\n",
            "Accuracy Decision Tree: 0.7285573447255997\n",
            "Precision Decision Tree: 0.5879360465116279\n",
            "Recall Decision Tree: 0.7574906367041199\n",
            "f1_score Decision Tree: 0.6620294599018003\n",
            "\n",
            "\n",
            "\n",
            "Current training: {'criterion': 'entropy', 'max_depth': 6, 'random_state': 33}\n",
            "Accuracy Decision Tree: 0.7755504436411436\n",
            "Precision Decision Tree: 0.6672458731537794\n",
            "Recall Decision Tree: 0.7191011235955056\n",
            "f1_score Decision Tree: 0.6922036953582695\n",
            "\n",
            "\n",
            "\n",
            "Current training: {'criterion': 'entropy', 'max_depth': 8, 'random_state': 33}\n",
            "Accuracy Decision Tree: 0.767334866907657\n",
            "Precision Decision Tree: 0.6497504159733777\n",
            "Recall Decision Tree: 0.7312734082397003\n",
            "f1_score Decision Tree: 0.6881057268722466\n",
            "\n",
            "\n",
            "\n",
            "TRAIN: [    0     1     2 ... 15213 15214 15215] TEST: [6068 6069 6070 ... 9151 9152 9159]\n",
            "Original dataset shape Counter({0: 7898, 1: 4275})\n"
          ],
          "name": "stdout"
        },
        {
          "output_type": "stream",
          "text": [
            "/usr/local/lib/python3.7/dist-packages/sklearn/utils/deprecation.py:87: FutureWarning: Function safe_indexing is deprecated; safe_indexing is deprecated in version 0.22 and will be removed in version 0.24.\n",
            "  warnings.warn(msg, category=FutureWarning)\n"
          ],
          "name": "stderr"
        },
        {
          "output_type": "stream",
          "text": [
            "Resampled dataset shape Counter({0: 7898, 1: 7898})\n",
            "Current training: {'criterion': 'gini', 'max_depth': 2, 'random_state': 33}\n",
            "Accuracy Decision Tree: 0.7160696680906999\n",
            "Precision Decision Tree: 0.5734767025089605\n",
            "Recall Decision Tree: 0.7483629560336763\n",
            "f1_score Decision Tree: 0.6493506493506493\n",
            "\n",
            "\n",
            "\n",
            "Current training: {'criterion': 'gini', 'max_depth': 4, 'random_state': 33}\n",
            "Accuracy Decision Tree: 0.7394019060138022\n",
            "Precision Decision Tree: 0.5963687150837989\n",
            "Recall Decision Tree: 0.7988774555659495\n",
            "f1_score Decision Tree: 0.6829268292682926\n",
            "\n",
            "\n",
            "\n",
            "Current training: {'criterion': 'gini', 'max_depth': 6, 'random_state': 33}\n",
            "Accuracy Decision Tree: 0.7689779822543542\n",
            "Precision Decision Tree: 0.6457006369426752\n",
            "Recall Decision Tree: 0.7586529466791394\n",
            "f1_score Decision Tree: 0.6976344086021505\n",
            "\n",
            "\n",
            "\n",
            "Current training: {'criterion': 'gini', 'max_depth': 8, 'random_state': 33}\n",
            "Accuracy Decision Tree: 0.7844232665133092\n",
            "Precision Decision Tree: 0.6742616033755274\n",
            "Recall Decision Tree: 0.7474275023386342\n",
            "f1_score Decision Tree: 0.7089618456078084\n",
            "\n",
            "\n",
            "\n",
            "Current training: {'criterion': 'entropy', 'max_depth': 2, 'random_state': 33}\n",
            "Accuracy Decision Tree: 0.7160696680906999\n",
            "Precision Decision Tree: 0.5734767025089605\n",
            "Recall Decision Tree: 0.7483629560336763\n",
            "f1_score Decision Tree: 0.6493506493506493\n",
            "\n",
            "\n",
            "\n",
            "Current training: {'criterion': 'entropy', 'max_depth': 4, 'random_state': 33}\n",
            "Accuracy Decision Tree: 0.7246138678935261\n",
            "Precision Decision Tree: 0.577568838146407\n",
            "Recall Decision Tree: 0.804490177736202\n",
            "f1_score Decision Tree: 0.6724003127443315\n",
            "\n",
            "\n",
            "\n",
            "Current training: {'criterion': 'entropy', 'max_depth': 6, 'random_state': 33}\n",
            "Accuracy Decision Tree: 0.7683207361156753\n",
            "Precision Decision Tree: 0.645367412140575\n",
            "Recall Decision Tree: 0.7558465855940131\n",
            "f1_score Decision Tree: 0.6962516156828953\n",
            "\n",
            "\n",
            "\n",
            "Current training: {'criterion': 'entropy', 'max_depth': 8, 'random_state': 33}\n",
            "Accuracy Decision Tree: 0.7936247124548144\n",
            "Precision Decision Tree: 0.6970509383378016\n",
            "Recall Decision Tree: 0.7296538821328344\n",
            "f1_score Decision Tree: 0.7129798903107861\n",
            "\n",
            "\n",
            "\n",
            "TRAIN: [    0     1     2 ... 15213 15214 15215] TEST: [ 9117  9118  9122 ... 12176 12177 12178]\n",
            "Original dataset shape Counter({0: 7898, 1: 4275})\n"
          ],
          "name": "stdout"
        },
        {
          "output_type": "stream",
          "text": [
            "/usr/local/lib/python3.7/dist-packages/sklearn/utils/deprecation.py:87: FutureWarning: Function safe_indexing is deprecated; safe_indexing is deprecated in version 0.22 and will be removed in version 0.24.\n",
            "  warnings.warn(msg, category=FutureWarning)\n"
          ],
          "name": "stderr"
        },
        {
          "output_type": "stream",
          "text": [
            "Resampled dataset shape Counter({0: 7898, 1: 7898})\n",
            "Current training: {'criterion': 'gini', 'max_depth': 2, 'random_state': 33}\n",
            "Accuracy Decision Tree: 0.6976667762076898\n",
            "Precision Decision Tree: 0.5548197203826343\n",
            "Recall Decision Tree: 0.7053320860617399\n",
            "f1_score Decision Tree: 0.6210873146622735\n",
            "\n",
            "\n",
            "\n",
            "Current training: {'criterion': 'gini', 'max_depth': 4, 'random_state': 33}\n",
            "Accuracy Decision Tree: 0.7022674991784423\n",
            "Precision Decision Tree: 0.5522101217168481\n",
            "Recall Decision Tree: 0.8063610851262862\n",
            "f1_score Decision Tree: 0.6555133079847909\n",
            "\n",
            "\n",
            "\n",
            "Current training: {'criterion': 'gini', 'max_depth': 6, 'random_state': 33}\n",
            "Accuracy Decision Tree: 0.7486033519553073\n",
            "Precision Decision Tree: 0.6111111111111112\n",
            "Recall Decision Tree: 0.7820392890551918\n",
            "f1_score Decision Tree: 0.686089454247025\n",
            "\n",
            "\n",
            "\n",
            "Current training: {'criterion': 'gini', 'max_depth': 8, 'random_state': 33}\n",
            "Accuracy Decision Tree: 0.761748274728886\n",
            "Precision Decision Tree: 0.6387096774193548\n",
            "Recall Decision Tree: 0.7408793264733395\n",
            "f1_score Decision Tree: 0.686011260285838\n",
            "\n",
            "\n",
            "\n",
            "Current training: {'criterion': 'entropy', 'max_depth': 2, 'random_state': 33}\n",
            "Accuracy Decision Tree: 0.6976667762076898\n",
            "Precision Decision Tree: 0.5548197203826343\n",
            "Recall Decision Tree: 0.7053320860617399\n",
            "f1_score Decision Tree: 0.6210873146622735\n",
            "\n",
            "\n",
            "\n",
            "Current training: {'criterion': 'entropy', 'max_depth': 4, 'random_state': 33}\n",
            "Accuracy Decision Tree: 0.7029247453171212\n",
            "Precision Decision Tree: 0.5548902195608783\n",
            "Recall Decision Tree: 0.7801683816651076\n",
            "f1_score Decision Tree: 0.6485225505443234\n",
            "\n",
            "\n",
            "\n",
            "Current training: {'criterion': 'entropy', 'max_depth': 6, 'random_state': 33}\n",
            "Accuracy Decision Tree: 0.7426881367071968\n",
            "Precision Decision Tree: 0.6068759342301944\n",
            "Recall Decision Tree: 0.7595884003741815\n",
            "f1_score Decision Tree: 0.674698795180723\n",
            "\n",
            "\n",
            "\n",
            "Current training: {'criterion': 'entropy', 'max_depth': 8, 'random_state': 33}\n",
            "Accuracy Decision Tree: 0.7847518895826487\n",
            "Precision Decision Tree: 0.6902573529411765\n",
            "Recall Decision Tree: 0.7025257249766137\n",
            "f1_score Decision Tree: 0.6963375057950859\n",
            "\n",
            "\n",
            "\n",
            "TRAIN: [    0     1     2 ... 12176 12177 12178] TEST: [12161 12163 12167 ... 15213 15214 15215]\n",
            "Original dataset shape Counter({0: 7898, 1: 4275})\n"
          ],
          "name": "stdout"
        },
        {
          "output_type": "stream",
          "text": [
            "/usr/local/lib/python3.7/dist-packages/sklearn/utils/deprecation.py:87: FutureWarning: Function safe_indexing is deprecated; safe_indexing is deprecated in version 0.22 and will be removed in version 0.24.\n",
            "  warnings.warn(msg, category=FutureWarning)\n"
          ],
          "name": "stderr"
        },
        {
          "output_type": "stream",
          "text": [
            "Resampled dataset shape Counter({0: 7898, 1: 7898})\n",
            "Current training: {'criterion': 'gini', 'max_depth': 2, 'random_state': 33}\n",
            "Accuracy Decision Tree: 0.7160696680906999\n",
            "Precision Decision Tree: 0.5784238714613619\n",
            "Recall Decision Tree: 0.7072029934518241\n",
            "f1_score Decision Tree: 0.6363636363636364\n",
            "\n",
            "\n",
            "\n",
            "Current training: {'criterion': 'gini', 'max_depth': 4, 'random_state': 33}\n",
            "Accuracy Decision Tree: 0.736444298389747\n",
            "Precision Decision Tree: 0.5940803382663847\n",
            "Recall Decision Tree: 0.7885874649204865\n",
            "f1_score Decision Tree: 0.677652733118971\n",
            "\n",
            "\n",
            "\n",
            "Current training: {'criterion': 'gini', 'max_depth': 6, 'random_state': 33}\n",
            "Accuracy Decision Tree: 0.7929674663161353\n",
            "Precision Decision Tree: 0.6997270245677889\n",
            "Recall Decision Tree: 0.7193638914873713\n",
            "f1_score Decision Tree: 0.709409594095941\n",
            "\n",
            "\n",
            "\n",
            "Current training: {'criterion': 'gini', 'max_depth': 8, 'random_state': 33}\n",
            "Accuracy Decision Tree: 0.7900098586920802\n",
            "Precision Decision Tree: 0.7189409368635438\n",
            "Recall Decision Tree: 0.6604303086997194\n",
            "f1_score Decision Tree: 0.688444661140907\n",
            "\n",
            "\n",
            "\n",
            "Current training: {'criterion': 'entropy', 'max_depth': 2, 'random_state': 33}\n",
            "Accuracy Decision Tree: 0.7177127834373973\n",
            "Precision Decision Tree: 0.5826771653543307\n",
            "Recall Decision Tree: 0.6922357343311506\n",
            "f1_score Decision Tree: 0.6327490380504489\n",
            "\n",
            "\n",
            "\n",
            "Current training: {'criterion': 'entropy', 'max_depth': 4, 'random_state': 33}\n",
            "Accuracy Decision Tree: 0.7147551758133421\n",
            "Precision Decision Tree: 0.5742793791574279\n",
            "Recall Decision Tree: 0.7268475210477081\n",
            "f1_score Decision Tree: 0.6416184971098265\n",
            "\n",
            "\n",
            "\n",
            "Current training: {'criterion': 'entropy', 'max_depth': 6, 'random_state': 33}\n",
            "Accuracy Decision Tree: 0.7722642129477489\n",
            "Precision Decision Tree: 0.6612349914236707\n",
            "Recall Decision Tree: 0.7212347988774556\n",
            "f1_score Decision Tree: 0.6899328859060403\n",
            "\n",
            "\n",
            "\n",
            "Current training: {'criterion': 'entropy', 'max_depth': 8, 'random_state': 33}\n",
            "Accuracy Decision Tree: 0.7837660203746303\n",
            "Precision Decision Tree: 0.6883593033913841\n",
            "Recall Decision Tree: 0.7025257249766137\n",
            "f1_score Decision Tree: 0.6953703703703704\n",
            "\n",
            "\n",
            "\n"
          ],
          "name": "stdout"
        }
      ]
    },
    {
      "cell_type": "markdown",
      "metadata": {
        "id": "4Ta-jHc16AL-"
      },
      "source": [
        "### Test the best model on the validation set"
      ]
    },
    {
      "cell_type": "code",
      "metadata": {
        "colab": {
          "base_uri": "https://localhost:8080/"
        },
        "id": "jS8IGGHS6Ds1",
        "outputId": "aa499026-32b6-4682-ef80-1055583b8fcd"
      },
      "source": [
        "model = DecisionTreeClassifier(max_depth=8)\n",
        "model.fit(x_pca,Y_train)\n",
        "y_pred = model.predict(X_test)\n",
        "\n",
        "print(f'Accuracy Logistic Regression: {accuracy_score(Y_test,y_pred)}')\n",
        "print(f'Precision Logistic Regression: {precision_score(Y_test,y_pred)}')\n",
        "print(f'Recall Logistic Regression: {recall_score(Y_test,y_pred)}')\n",
        "print(f'f1_score Logistic Regression: {f1_score(Y_test,y_pred)}')"
      ],
      "execution_count": 20,
      "outputs": [
        {
          "output_type": "stream",
          "text": [
            "Accuracy Logistic Regression: 0.7975814931650894\n",
            "Precision Logistic Regression: 0.7677238805970149\n",
            "Recall Logistic Regression: 0.6123511904761905\n",
            "f1_score Logistic Regression: 0.6812913907284768\n"
          ],
          "name": "stdout"
        }
      ]
    },
    {
      "cell_type": "markdown",
      "metadata": {
        "id": "D9W6m49X7MTe"
      },
      "source": [
        "### Confusion Matrix"
      ]
    },
    {
      "cell_type": "code",
      "metadata": {
        "colab": {
          "base_uri": "https://localhost:8080/",
          "height": 388
        },
        "id": "fT1ua8It6bYt",
        "outputId": "87581bfc-70a9-4150-e31c-64ac576343b9"
      },
      "source": [
        "#@title\n",
        "plot_cm(Y_test,y_pred)"
      ],
      "execution_count": 22,
      "outputs": [
        {
          "output_type": "display_data",
          "data": {
            "image/png": "[encoded data removed]",
            "text/plain": [
              "<Figure size 432x432 with 2 Axes>"
            ]
          },
          "metadata": {
            "tags": [],
            "needs_background": "light"
          }
        }
      ]
    },
    {
      "cell_type": "markdown",
      "metadata": {
        "id": "eF347XG6gypD"
      },
      "source": [
        "### Visualization of the decision tree"
      ]
    },
    {
      "cell_type": "code",
      "metadata": {
        "id": "bdxV_88cT5WL"
      },
      "source": [
        "#@title\n",
        "\n",
        "# # DOT data\n",
        "# feature_columns = [\"fLength\", \"fWidth\", \"fSize\", \"fConc\", \"fConc1\", \"fAsym\", \"fM3Long\", \"fM3Trans\", \"fAlpha\", \"fDist\"] \n",
        "# class_names = [\"g\",\"h\"]\n",
        "# dot_data = tree.export_graphviz(model, out_file=None, \n",
        "#                                 feature_names=feature_columns,  \n",
        "#                                 class_names=class_names,\n",
        "#                                 filled=True)\n",
        "\n",
        "# # Draw graph\n",
        "# graph = graphviz.Source(dot_data, format=\"png\") \n",
        "# graph"
      ],
      "execution_count": 23,
      "outputs": []
    },
    {
      "cell_type": "markdown",
      "metadata": {
        "id": "-0zySdpeBMW8"
      },
      "source": [
        "### Learning curve\n"
      ]
    },
    {
      "cell_type": "code",
      "metadata": {
        "colab": {
          "base_uri": "https://localhost:8080/",
          "height": 441
        },
        "cellView": "form",
        "id": "FXTHChNXANv8",
        "outputId": "2aebcfc6-5311-462b-91e0-61a6c3360377"
      },
      "source": [
        "#@title\n",
        "plot_learningCurve(model, X_train, Y_train)"
      ],
      "execution_count": 25,
      "outputs": [
        {
          "output_type": "display_data",
          "data": {
            "image/png": "[encoded data removed]",
            "text/plain": [
              "<Figure size 432x432 with 1 Axes>"
            ]
          },
          "metadata": {
            "tags": [],
            "needs_background": "light"
          }
        }
      ]
    },
    {
      "cell_type": "markdown",
      "metadata": {
        "id": "e0gvbvDwB-7d"
      },
      "source": [
        "## Random Forest"
      ]
    },
    {
      "cell_type": "markdown",
      "metadata": {
        "id": "orzZ0W37hBdb"
      },
      "source": [
        "Random Forest is a classifier based on an ensemble of *decision tree*. <br>\n",
        "The main idea used is **bootstrap aggregation** sampling, or also called **bagging**, which combine multiple prediction functions learned from $n$ different datsets. These datasets are bootstrapped from the training set, bootstrap is a sampling technique that consist in sampling uniformly (each sample has the same probability to be picked) the samples from the training set at random with replacement.<br> Given a set of $n$ independent observations $Z_1, Z_2, ..., Z_n$ each with $\\sigma^2$, the variance of the mean $Z"
      ]
    },
    {
      "cell_type": "code",
      "metadata": {
        "colab": {
          "base_uri": "https://localhost:8080/",
          "height": 296
        },
        "id": "MO9DqlnLCA6l",
        "outputId": "6bb04ef4-5108-46a4-e3fe-888e9f2bb749"
      },
      "source": [
        "model = RandomForestClassifier()\n",
        "model.fit(x_train,y_train)\n",
        "y_pred = model.predict(x_test)\n",
        "accuracy_score(y_test,y_pred)\n",
        "plot_confusion_matrix(model, x_test, y_test,\n",
        "                                #  display_labels=class_names,\n",
        "                                 cmap=plt.cm.Blues)"
      ],
      "execution_count": 39,
      "outputs": [
        {
          "output_type": "execute_result",
          "data": {
            "text/plain": [
              "<sklearn.metrics._plot.confusion_matrix.ConfusionMatrixDisplay at 0x7f0ee145f690>"
            ]
          },
          "metadata": {
            "tags": []
          },
          "execution_count": 39
        },
        {
          "output_type": "display_data",
          "data": {
            "image/png": "[encoded data removed]",
            "text/plain": [
              "<Figure size 432x288 with 2 Axes>"
            ]
          },
          "metadata": {
            "tags": [],
            "needs_background": "light"
          }
        }
      ]
    },
    {
      "cell_type": "markdown",
      "metadata": {
        "id": "-QwvXgWRCsnB"
      },
      "source": [
        "## SVM"
      ]
    },
    {
      "cell_type": "code",
      "metadata": {
        "colab": {
          "base_uri": "https://localhost:8080/"
        },
        "id": "Ugs4rYRHB9tZ",
        "outputId": "988cdc33-0f1b-45b4-ab35-0d054686a62e"
      },
      "source": [
        "model = LinearSVC()\n",
        "model.fit(x_train,y_train)\n",
        "y_pred = model.predict(x_test)\n",
        "accuracy_score(y_test,y_pred)"
      ],
      "execution_count": null,
      "outputs": [
        {
          "output_type": "stream",
          "text": [
            "/usr/local/lib/python3.7/dist-packages/sklearn/svm/_base.py:947: ConvergenceWarning: Liblinear failed to converge, increase the number of iterations.\n",
            "  \"the number of iterations.\", ConvergenceWarning)\n"
          ],
          "name": "stderr"
        },
        {
          "output_type": "execute_result",
          "data": {
            "text/plain": [
              "0.7894321766561514"
            ]
          },
          "metadata": {
            "tags": []
          },
          "execution_count": 178
        }
      ]
    },
    {
      "cell_type": "markdown",
      "metadata": {
        "id": "Payo7WKJnmi0"
      },
      "source": [
        "# Recap"
      ]
    },
    {
      "cell_type": "code",
      "metadata": {
        "colab": {
          "base_uri": "https://localhost:8080/"
        },
        "id": "cikRgh6wnn9n",
        "outputId": "f761aa36-1cf8-4bb5-d0e7-ce9d2b11782b"
      },
      "source": [
        "# Getting started with MAGIC Gamma Telescope data set\n",
        "!wget http://archive.ics.uci.edu/ml/machine-learning-databases/magic/magic04.data\n",
        "!wget http://archive.ics.uci.edu/ml/machine-learning-databases/magic/magic04.names\n",
        "\n",
        "\n",
        "df = pd.read_csv('magic04.data',header=None)\n",
        "columns = { 0: \"fLength\", 1: \"fWidth\", 2: \"fSize\", 3: \"fConc\", 4: \"fConc1\", 5: \"fAsym\", 6: \"fM3Long\", 7: \"fM3Trans\", 8: \"fAlpha\", 9: \"fDist\", 10: \"class\"} \n",
        "df.rename(columns=columns, inplace=True)\n",
        "\n",
        "# LABEL ENCODER\n",
        "x = df.drop(['class'], axis=1)\n",
        "y = df['class']\n",
        "# h-> 1 \n",
        "# g-> 0\n",
        "le = LabelEncoder()\n",
        "y = le.fit_transform(y)\n",
        "\n",
        "# STANDARD SCALER\n",
        "X_train, X_test, Y_train, Y_test = train_test_split(x, y, test_size=0.20, random_state=42)\n",
        "scaler = StandardScaler()\n",
        "X_train, X_test = scaler.fit_transform(X_train), scaler.transform(X_test)\n",
        "\n",
        "# PCA\n",
        "pca = PCA(n_components=5)\n",
        "x_pca = pca.fit_transform(X_train)\n",
        "x_pca = pd.DataFrame(x_pca)\n",
        "\n",
        "\n",
        "\n",
        "\n"
      ],
      "execution_count": 14,
      "outputs": [
        {
          "output_type": "stream",
          "text": [
            "--2021-07-14 18:02:33--  http://archive.ics.uci.edu/ml/machine-learning-databases/magic/magic04.data\n",
            "Resolving archive.ics.uci.edu (archive.ics.uci.edu)... 128.195.10.252\n",
            "Connecting to archive.ics.uci.edu (archive.ics.uci.edu)|128.195.10.252|:80... connected.\n",
            "HTTP request sent, awaiting response... 200 OK\n",
            "Length: 1477391 (1.4M) [application/x-httpd-php]\n",
            "Saving to: ‘magic04.data.2’\n",
            "\n",
            "magic04.data.2      100%[===================>]   1.41M  3.36MB/s    in 0.4s    \n",
            "\n",
            "2021-07-14 18:02:34 (3.36 MB/s) - ‘magic04.data.2’ saved [1477391/1477391]\n",
            "\n",
            "--2021-07-14 18:02:34--  http://archive.ics.uci.edu/ml/machine-learning-databases/magic/magic04.names\n",
            "Resolving archive.ics.uci.edu (archive.ics.uci.edu)... 128.195.10.252\n",
            "Connecting to archive.ics.uci.edu (archive.ics.uci.edu)|128.195.10.252|:80... connected.\n",
            "HTTP request sent, awaiting response... 200 OK\n",
            "Length: 5400 (5.3K) [application/x-httpd-php]\n",
            "Saving to: ‘magic04.names.2’\n",
            "\n",
            "magic04.names.2     100%[===================>]   5.27K  --.-KB/s    in 0s      \n",
            "\n",
            "2021-07-14 18:02:34 (382 MB/s) - ‘magic04.names.2’ saved [5400/5400]\n",
            "\n"
          ],
          "name": "stdout"
        }
      ]
    },
    {
      "cell_type": "code",
      "metadata": {
        "colab": {
          "base_uri": "https://localhost:8080/"
        },
        "id": "ANXxLyVjwV3i",
        "outputId": "f8a505fc-821a-4105-d272-58d931bde270"
      },
      "source": [
        "Y_train.shape, x_pca.shape"
      ],
      "execution_count": 13,
      "outputs": [
        {
          "output_type": "execute_result",
          "data": {
            "text/plain": [
              "((15216,), (15216, 6))"
            ]
          },
          "metadata": {
            "tags": []
          },
          "execution_count": 13
        }
      ]
    },
    {
      "cell_type": "code",
      "metadata": {
        "id": "p1KJNY84pn1U"
      },
      "source": [
        "for train_index, test_index in stratifyKfold.split(x_pca, Y_train):\n",
        "  print(\"TRAIN:\", train_index, \"TEST:\", test_index)\n",
        "  x_train, x_test = x_pca[train_index], x_pca[test_index]\n",
        "  y_train, y_test = Y_train[train_index], Y_train[test_index]\n",
        "\n",
        "  \n",
        "  print('Original dataset shape %s' % Counter(y_train))\n",
        "  sm = SMOTE(random_state=42)\n",
        "  X_res, y_res = sm.fit_resample(x_train, y_train)\n",
        "  print('Resampled dataset shape %s' % Counter(y_res))\n",
        "\n",
        "\n",
        "  hpyerparameters_reg = {\n",
        "      \"penalty\": ['l2'],\n",
        "      \"C\": [0.5,1,10],\n",
        "      \"max_iter\": [100,500]\n",
        "  }\n",
        "\n",
        "  for config in ParameterGrid(hpyerparameters_reg):\n",
        "    print(f\"Current training: {config}\")\n",
        "    logReg = LogisticRegression(**config)\n",
        "    logReg.fit(X_res, y_res)\n",
        "\n",
        "    y_pred = logReg.predict(x_test)\n",
        "    print(f'Accuracy Logistic Regression: {accuracy_score(y_test,y_pred)}')\n",
        "    print(f'Precision Logistic Regression: {precision_score(y_test,y_pred)}')\n",
        "    print(f'Recall Logistic Regression: {recall_score(y_test,y_pred)}')\n",
        "    print(f'f1_score Logistic Regression: {f1_score(y_test,y_pred)}')\n",
        "    print('\\n\\n')\n",
        "    \n"
      ],
      "execution_count": null,
      "outputs": []
    },
    {
      "cell_type": "code",
      "metadata": {
        "colab": {
          "base_uri": "https://localhost:8080/"
        },
        "id": "JDoBu1CO1yVW",
        "outputId": "2a486d3e-6a2c-4cdd-b155-9b089aaa302b"
      },
      "source": [
        "x_pca.shape, Y_train.shape, x_test.shape, y_test.shape"
      ],
      "execution_count": 23,
      "outputs": [
        {
          "output_type": "execute_result",
          "data": {
            "text/plain": [
              "((15216, 6), (15216,), (3043, 6), (3043,))"
            ]
          },
          "metadata": {
            "tags": []
          },
          "execution_count": 23
        }
      ]
    },
    {
      "cell_type": "code",
      "metadata": {
        "colab": {
          "base_uri": "https://localhost:8080/"
        },
        "id": "-ekdUKkNNEVP",
        "outputId": "8849a3ae-83c1-49c4-c928-40ad5deec516"
      },
      "source": [
        "model = LogisticRegression()\n",
        "model.fit(x_pca,Y_train)\n",
        "y_pred = model.predict(x_test)\n",
        "\n",
        "accuracy_score(y_pred,y_test)"
      ],
      "execution_count": 24,
      "outputs": [
        {
          "output_type": "execute_result",
          "data": {
            "text/plain": [
              "0.7840946434439697"
            ]
          },
          "metadata": {
            "tags": []
          },
          "execution_count": 24
        }
      ]
    }
  ]
}